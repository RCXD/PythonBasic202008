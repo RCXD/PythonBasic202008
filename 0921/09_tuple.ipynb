{
 "cells": [
  {
   "cell_type": "markdown",
   "metadata": {},
   "source": [
    "튜플 만들기  \n",
    "튜플은 리스트와 비슷하지만 리스트는 []로 둘러싸고 튜플은 ()로 둘러싼다는 것과 리스는 데이터의 수정, 삭제가 가능하지만 튜플은 수정, 삭제가 불가능하다."
   ]
  },
  {
   "cell_type": "code",
   "execution_count": 3,
   "metadata": {},
   "outputs": [
    {
     "name": "stdout",
     "output_type": "stream",
     "text": [
      "()\n",
      "<class 'tuple'>\n",
      "()\n",
      "<class 'tuple'>\n"
     ]
    }
   ],
   "source": [
    "# 빈 튜플 만들기\n",
    "a = ()\n",
    "print(a)\n",
    "print(type(a))\n",
    "# 생성자를 이용해 빈 튜플 만들기\n",
    "b = tuple()\n",
    "print(b)\n",
    "print(type(b))"
   ]
  },
  {
   "cell_type": "code",
   "execution_count": 6,
   "metadata": {},
   "outputs": [
    {
     "name": "stdout",
     "output_type": "stream",
     "text": [
      "[1]\n",
      "<class 'list'>\n",
      "1\n",
      "<class 'int'>\n",
      "(1,)\n",
      "<class 'tuple'>\n"
     ]
    }
   ],
   "source": [
    "c = [1]\n",
    "print(c)\n",
    "print(type(c))\n",
    "d = (1) # 일반적인 연산식에 사용하는 ()로 인식해서 상수를 기억하는 변수가 된다.\n",
    "print(d)\n",
    "print(type(d))\n",
    "e = (1,) # 1개의 데이터만 가지는 튜플을 만들어야 한다면 반드시 데이텨 뒤에 ','를 찍어야 한다.\n",
    "print(e)\n",
    "print(type(e))"
   ]
  },
  {
   "cell_type": "code",
   "execution_count": 12,
   "metadata": {},
   "outputs": [
    {
     "name": "stdout",
     "output_type": "stream",
     "text": [
      "(1, 2)\n",
      "<class 'tuple'>\n",
      "(1, 2, 3)\n",
      "<class 'tuple'>\n",
      "('a', 'b', ('ab', 'cd'))\n",
      "<class 'tuple'>\n",
      "['a', 'b', ('ab', 'cd')]\n",
      "<class 'list'>\n",
      "('a', 'b', ['ab', 'cd'])\n",
      "<class 'tuple'>\n"
     ]
    }
   ],
   "source": [
    "f = (1, 2)\n",
    "print(f)\n",
    "print(type(f))\n",
    "g = (1, 2, 3)\n",
    "print(g)\n",
    "print(type(g))\n",
    "h = ('a', 'b', ('ab', 'cd'))\n",
    "print(h)\n",
    "print(type(h))\n",
    "i = ['a', 'b', ('ab', 'cd')]\n",
    "print(i)\n",
    "print(type(i))\n",
    "j = ('a', 'b', ['ab', 'cd'])\n",
    "print(j)\n",
    "print(type(j))"
   ]
  },
  {
   "cell_type": "code",
   "execution_count": 14,
   "metadata": {},
   "outputs": [
    {
     "name": "stdout",
     "output_type": "stream",
     "text": [
      "(1, 2, 3, 4, 5, 6)\n",
      "<class 'tuple'>\n"
     ]
    }
   ],
   "source": [
    "# 튜플은 ()를 생략해도 변수에 데이터를 ','로 구분해서 여러개를 넣어주면 튜플로 인식한다.\n",
    "k = 1, 2, 3, 4, 5, 6\n",
    "print(k)\n",
    "print(type(k))"
   ]
  },
  {
   "cell_type": "code",
   "execution_count": 23,
   "metadata": {},
   "outputs": [
    {
     "name": "stdout",
     "output_type": "stream",
     "text": [
      "(1, 2, 3, 4, 5, 6)\n",
      "1\n",
      "6\n",
      "(3, 4)\n",
      "(1, 2, 3, 4)\n",
      "(3, 4, 5, 6)\n",
      "('a', 'b')\n",
      "('a', 'b', 1, 2, 3, 4, 5, 6)\n",
      "('a', 'b', 'a', 'b', 'a', 'b')\n"
     ]
    }
   ],
   "source": [
    "# 튜플은 리스트와 같이 인덱싱과 슬라이싱이 가능하다.\n",
    "l = 1, 2, 3, 4, 5, 6\n",
    "print(l)\n",
    "print(l[0])\n",
    "print(l[-1])\n",
    "print(l[2:4])\n",
    "print(l[:4])\n",
    "print(l[2:])\n",
    "# 튜플은 리스트와 같이 '+', '*' 연산이 가능하다.\n",
    "m = 'a', 'b'\n",
    "print(m)\n",
    "print(m + l)\n",
    "print(m * 3)"
   ]
  },
  {
   "cell_type": "code",
   "execution_count": 28,
   "metadata": {},
   "outputs": [
    {
     "name": "stdout",
     "output_type": "stream",
     "text": [
      "(1, 2, 3, 4, 5, 6)\n"
     ]
    },
    {
     "ename": "NameError",
     "evalue": "name 'n' is not defined",
     "output_type": "error",
     "traceback": [
      "\u001b[1;31m---------------------------------------------------------------------------\u001b[0m",
      "\u001b[1;31mNameError\u001b[0m                                 Traceback (most recent call last)",
      "\u001b[1;32m<ipython-input-28-56b843e2312e>\u001b[0m in \u001b[0;36m<module>\u001b[1;34m\u001b[0m\n\u001b[0;32m      5\u001b[0m \u001b[1;31m# del n[0]   # 튜플에 저장된 데이터를 삭제하려 했으므로 에러가 발생된다.\u001b[0m\u001b[1;33m\u001b[0m\u001b[1;33m\u001b[0m\u001b[1;33m\u001b[0m\u001b[0m\n\u001b[0;32m      6\u001b[0m \u001b[1;32mdel\u001b[0m \u001b[0mn\u001b[0m        \u001b[1;31m# del 명령으로 튜플 전체를 삭제하는 것은 가능하다.\u001b[0m\u001b[1;33m\u001b[0m\u001b[1;33m\u001b[0m\u001b[0m\n\u001b[1;32m----> 7\u001b[1;33m \u001b[0mprint\u001b[0m\u001b[1;33m(\u001b[0m\u001b[0mn\u001b[0m\u001b[1;33m)\u001b[0m\u001b[1;33m\u001b[0m\u001b[1;33m\u001b[0m\u001b[0m\n\u001b[0m",
      "\u001b[1;31mNameError\u001b[0m: name 'n' is not defined"
     ]
    }
   ],
   "source": [
    "# 튜플은 리스트와 달리 수정과 삭제를 할 수 없다.\n",
    "n = 1, 2, 3, 4, 5, 6\n",
    "print(n)\n",
    "# n[0] = 'z' # 튜플에 저장된 데이터를 수정하려 했으므로 에러가 발생된다.\n",
    "# del n[0]   # 튜플에 저장된 데이터를 삭제하려 했으므로 에러가 발생된다.\n",
    "del n        # del 명령으로 튜플 전체를 삭제하는 것은 가능하다.\n",
    "print(n)"
   ]
  },
  {
   "cell_type": "code",
   "execution_count": 29,
   "metadata": {},
   "outputs": [
    {
     "name": "stdout",
     "output_type": "stream",
     "text": [
      "o = 3, p = 4\n"
     ]
    }
   ],
   "source": [
    "o = 3\n",
    "p = 4\n",
    "print('o = {}, p = {}'.format(o, p))\n",
    "\n",
    "print('o = {}, p = {}'.format(o, p))"
   ]
  },
  {
   "cell_type": "code",
   "execution_count": null,
   "metadata": {},
   "outputs": [],
   "source": []
  },
  {
   "cell_type": "code",
   "execution_count": null,
   "metadata": {},
   "outputs": [],
   "source": []
  },
  {
   "cell_type": "code",
   "execution_count": null,
   "metadata": {},
   "outputs": [],
   "source": []
  },
  {
   "cell_type": "code",
   "execution_count": null,
   "metadata": {},
   "outputs": [],
   "source": []
  },
  {
   "cell_type": "code",
   "execution_count": null,
   "metadata": {},
   "outputs": [],
   "source": []
  }
 ],
 "metadata": {
  "kernelspec": {
   "display_name": "Python 3",
   "language": "python",
   "name": "python3"
  },
  "language_info": {
   "codemirror_mode": {
    "name": "ipython",
    "version": 3
   },
   "file_extension": ".py",
   "mimetype": "text/x-python",
   "name": "python",
   "nbconvert_exporter": "python",
   "pygments_lexer": "ipython3",
   "version": "3.6.8"
  }
 },
 "nbformat": 4,
 "nbformat_minor": 4
}

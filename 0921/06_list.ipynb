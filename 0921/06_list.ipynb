{
 "cells": [
  {
   "cell_type": "markdown",
   "metadata": {},
   "source": [
    "리스트 만들기  \n",
    "리스트를 만들 때는 데이터를 []로 감싸주고 각각의 데이터는 ','로 구분한다."
   ]
  },
  {
   "cell_type": "code",
   "execution_count": 2,
   "metadata": {},
   "outputs": [
    {
     "name": "stdout",
     "output_type": "stream",
     "text": [
      "[1, 3, 5, 7, 9]\n",
      "<class 'list'>\n"
     ]
    }
   ],
   "source": [
    "odd = [1, 3, 5, 7, 9]\n",
    "print(odd)\n",
    "print(type(odd))"
   ]
  },
  {
   "cell_type": "code",
   "execution_count": 4,
   "metadata": {},
   "outputs": [
    {
     "name": "stdout",
     "output_type": "stream",
     "text": [
      "[]\n",
      "<class 'list'>\n",
      "[]\n",
      "<class 'list'>\n"
     ]
    }
   ],
   "source": [
    "# 빈 리스트 만들기\n",
    "a = []\n",
    "print(a)\n",
    "print(type(a))\n",
    "# 빈 리스트는 생성자 함수를 이용해서도 만들 수 있다.\n",
    "b = list()\n",
    "print(b)\n",
    "print(type(b))"
   ]
  },
  {
   "cell_type": "code",
   "execution_count": 9,
   "metadata": {},
   "outputs": [
    {
     "name": "stdout",
     "output_type": "stream",
     "text": [
      "[['A', 'B'], ['C', 'D']]\n"
     ]
    }
   ],
   "source": [
    "c = [1, 2, 3]\n",
    "d = ['A', 'B', 'C', 'D']\n",
    "e = [1, 2, 'A', 'B']\n",
    "f = [1, 2, ['A', 'B']]\n",
    "g = [['A', 'B'], ['C', 'D']]\n",
    "print(g)"
   ]
  },
  {
   "cell_type": "markdown",
   "metadata": {},
   "source": [
    "리스트 인덱싱"
   ]
  },
  {
   "cell_type": "code",
   "execution_count": 14,
   "metadata": {},
   "outputs": [
    {
     "name": "stdout",
     "output_type": "stream",
     "text": [
      "[10, 20, 30, 40, 50]\n",
      "10\n",
      "50\n",
      "60\n"
     ]
    }
   ],
   "source": [
    "a = [10, 20, 30, 40, 50]\n",
    "print(a)\n",
    "print(a[0])\n",
    "print(a[-1])\n",
    "print(a[0] + a[-1])"
   ]
  },
  {
   "cell_type": "code",
   "execution_count": 18,
   "metadata": {},
   "outputs": [
    {
     "name": "stdout",
     "output_type": "stream",
     "text": [
      "[10, 20, 30, ['a', 'b', 'c']]\n",
      "10\n",
      "4\n",
      "['a', 'b', 'c']\n",
      "b\n"
     ]
    }
   ],
   "source": [
    "b = [10, 20, 30, ['a', 'b', 'c']]\n",
    "print(b)\n",
    "print(b[0])\n",
    "print(len(b))\n",
    "print(b[-1])\n",
    "print(b[-1][1])"
   ]
  },
  {
   "cell_type": "code",
   "execution_count": 23,
   "metadata": {},
   "outputs": [
    {
     "name": "stdout",
     "output_type": "stream",
     "text": [
      "3\n",
      "['a', 'b', ['life', 'is']]\n",
      "3\n",
      "['life', 'is']\n",
      "life\n"
     ]
    }
   ],
   "source": [
    "c = [10, 20, ['a', 'b', ['life', 'is']]]\n",
    "print(len(c))\n",
    "print(c[2])\n",
    "print(len(c[2]))\n",
    "print(c[2][-1])\n",
    "print(c[2][-1][0])"
   ]
  },
  {
   "cell_type": "markdown",
   "metadata": {},
   "source": [
    "리스트 슬라이싱"
   ]
  },
  {
   "cell_type": "code",
   "execution_count": 28,
   "metadata": {},
   "outputs": [
    {
     "name": "stdout",
     "output_type": "stream",
     "text": [
      "10\n",
      "[10]\n",
      "[10, 20, 30]\n",
      "[40, 50]\n",
      "[10, 20, 30, 40, 50]\n"
     ]
    }
   ],
   "source": [
    "d = [10, 20, 30, 40, 50]\n",
    "print(d[0])\n",
    "print(d[0:1])\n",
    "print(d[:3])\n",
    "print(d[3:])\n",
    "print(d[:])"
   ]
  },
  {
   "cell_type": "markdown",
   "metadata": {},
   "source": [
    "리스트 연산자"
   ]
  },
  {
   "cell_type": "code",
   "execution_count": 31,
   "metadata": {},
   "outputs": [
    {
     "name": "stdout",
     "output_type": "stream",
     "text": [
      "[1, 2, 3, 4, 5, 6, 7]\n",
      "[1, 2, 3, 1, 2, 3, 1, 2, 3]\n"
     ]
    }
   ],
   "source": [
    "# '+'는 두 개의 리스트를 연결하고 '*'는 리스트를 반복한다.\n",
    "e = [1, 2, 3]\n",
    "f = [4, 5, 6, 7]\n",
    "print(e + f)\n",
    "print(e * 3)"
   ]
  },
  {
   "cell_type": "markdown",
   "metadata": {},
   "source": [
    "리스트의 수정 및 삭제"
   ]
  },
  {
   "cell_type": "code",
   "execution_count": 42,
   "metadata": {},
   "outputs": [
    {
     "name": "stdout",
     "output_type": "stream",
     "text": [
      "[10, 20, 30]\n",
      "20\n",
      "[10, 40, 30]\n",
      "[40]\n",
      "[10, 'a', 'b', 'c', 30]\n",
      "[10, 'a', ['AAA', 'BBB', 'CCC'], 'c', 30]\n",
      "[10, ['AAA', 'BBB', 'CCC'], 'c', 30]\n",
      "[10, 30]\n"
     ]
    }
   ],
   "source": [
    "# 리스트를 인덱싱을 사용해 수정하려면 상수를 넣어줘야 하고 슬라이싱을 사용해 수정하려면 리스트를 넣어줘야 한다.\n",
    "a = [10, 20, 30]\n",
    "print(a)\n",
    "print(a[1])\n",
    "a[1] = 40\n",
    "print(a)\n",
    "print(a[1:2])\n",
    "# a[1:2] = 100 # 슬라이싱 결과는 리스트이기 때문에 상수를 넣을 수 없으므로 에러가 발생된다.\n",
    "a[1:2] = ['a', 'b', 'c']\n",
    "print(a)\n",
    "# 리스트를 인덱싱을 사용해 수정할 때 상수가 아닌 리스트를 넣어주면 리스트 자체로 수정된다.\n",
    "a[2] = ['AAA', 'BBB', 'CCC']\n",
    "print(a)\n",
    "\n",
    "# 인덱싱 방식은 del 명령으로 삭제한다.\n",
    "del a[1]\n",
    "print(a)\n",
    "# 슬라이싱 방식은 빈 리스트를 넣어주면 삭제된다.\n",
    "# print(a[1:3])\n",
    "a[1:3] = []\n",
    "print(a)"
   ]
  },
  {
   "cell_type": "markdown",
   "metadata": {},
   "source": [
    "리스트 메소드"
   ]
  },
  {
   "cell_type": "code",
   "execution_count": 44,
   "metadata": {},
   "outputs": [
    {
     "name": "stdout",
     "output_type": "stream",
     "text": [
      "[1, 2, 3]\n",
      "[1, 2, 3, 4]\n"
     ]
    }
   ],
   "source": [
    "# append() 메소드는 리스트의 맨 뒤에 인수로 지정한 데이터를 추가한다.\n",
    "a = [1, 2, 3]\n",
    "print(a)\n",
    "a.append(4)\n",
    "print(a)"
   ]
  },
  {
   "cell_type": "code",
   "execution_count": 46,
   "metadata": {},
   "outputs": [
    {
     "name": "stdout",
     "output_type": "stream",
     "text": [
      "[1, 2, 3]\n",
      "[1, 4, 2, 3]\n"
     ]
    }
   ],
   "source": [
    "# insert() 메소드는 리스트의 index 번째 위치에 인수로 지정한 데이터를 삽입한다.\n",
    "b = [1, 2, 3]\n",
    "print(b)\n",
    "b.insert(1, 4)\n",
    "print(b)"
   ]
  },
  {
   "cell_type": "code",
   "execution_count": 55,
   "metadata": {},
   "outputs": [
    {
     "name": "stdout",
     "output_type": "stream",
     "text": [
      "[1, 5, 2, 3, 6, 4]\n",
      "[1, 2, 3, 4, 5, 6]\n",
      "['a', 'd', 'c', 'b']\n",
      "['a', 'b', 'c', 'd']\n",
      "['홍길동', '임꺽정', '장길산', '일지매']\n",
      "['일지매', '임꺽정', '장길산', '홍길동']\n",
      "[6, 5, 4, 3, 2, 1]\n",
      "['d', 'c', 'b', 'a']\n",
      "['홍길동', '장길산', '임꺽정', '일지매']\n"
     ]
    }
   ],
   "source": [
    "# sort() 메소드는 리스트에 저장된 데이터를 오름차순으로 정렬한다.\n",
    "c = [1, 5, 2, 3, 6, 4]\n",
    "print(c)\n",
    "c.sort()\n",
    "print(c)\n",
    "\n",
    "d = ['a', 'd', 'c', 'b']\n",
    "print(d)\n",
    "d.sort()\n",
    "print(d)\n",
    "\n",
    "e = ['홍길동', '임꺽정', '장길산', '일지매']\n",
    "print(e)\n",
    "e.sort()\n",
    "print(e)\n",
    "\n",
    "# sort() 메소드에 reverse = True 옵션을 지정하면 내림차순으로 정렬된다.\n",
    "c.sort(reverse = True)\n",
    "print(c)\n",
    "d.sort(reverse = True)\n",
    "print(d)\n",
    "e.sort(reverse = True)\n",
    "print(e)"
   ]
  },
  {
   "cell_type": "code",
   "execution_count": 59,
   "metadata": {},
   "outputs": [
    {
     "name": "stdout",
     "output_type": "stream",
     "text": [
      "[4, 1, 3, 2]\n",
      "[2, 3, 1, 4]\n",
      "[1, 2, 3, 4]\n",
      "[4, 3, 2, 1]\n"
     ]
    }
   ],
   "source": [
    "# reverse() 메소드는 리스트에 저장된 데이터를 뒤집는다.\n",
    "f = [4, 1, 3, 2]\n",
    "print(f)\n",
    "f.reverse()\n",
    "print(f)\n",
    "\n",
    "f.sort()\n",
    "print(f)\n",
    "f.reverse()\n",
    "print(f)"
   ]
  },
  {
   "cell_type": "code",
   "execution_count": 62,
   "metadata": {},
   "outputs": [
    {
     "name": "stdout",
     "output_type": "stream",
     "text": [
      "[1, 2, 3, 4, 3, 5, 3]\n",
      "2\n"
     ]
    },
    {
     "ename": "ValueError",
     "evalue": "6 is not in list",
     "output_type": "error",
     "traceback": [
      "\u001b[1;31m---------------------------------------------------------------------------\u001b[0m",
      "\u001b[1;31mValueError\u001b[0m                                Traceback (most recent call last)",
      "\u001b[1;32m<ipython-input-62-f1f7fa323502>\u001b[0m in \u001b[0;36m<module>\u001b[1;34m\u001b[0m\n\u001b[0;32m      4\u001b[0m \u001b[0mprint\u001b[0m\u001b[1;33m(\u001b[0m\u001b[0mg\u001b[0m\u001b[1;33m)\u001b[0m\u001b[1;33m\u001b[0m\u001b[1;33m\u001b[0m\u001b[0m\n\u001b[0;32m      5\u001b[0m \u001b[0mprint\u001b[0m\u001b[1;33m(\u001b[0m\u001b[0mg\u001b[0m\u001b[1;33m.\u001b[0m\u001b[0mindex\u001b[0m\u001b[1;33m(\u001b[0m\u001b[1;36m3\u001b[0m\u001b[1;33m)\u001b[0m\u001b[1;33m)\u001b[0m\u001b[1;33m\u001b[0m\u001b[1;33m\u001b[0m\u001b[0m\n\u001b[1;32m----> 6\u001b[1;33m \u001b[0mprint\u001b[0m\u001b[1;33m(\u001b[0m\u001b[0mg\u001b[0m\u001b[1;33m.\u001b[0m\u001b[0mindex\u001b[0m\u001b[1;33m(\u001b[0m\u001b[1;36m6\u001b[0m\u001b[1;33m)\u001b[0m\u001b[1;33m)\u001b[0m\u001b[1;33m\u001b[0m\u001b[1;33m\u001b[0m\u001b[0m\n\u001b[0m",
      "\u001b[1;31mValueError\u001b[0m: 6 is not in list"
     ]
    }
   ],
   "source": [
    "# index() 메소드는 인수로 지정된 데이터가 리스트에 저장되어있을 경우 첫 번째 위치를 얻어온다.\n",
    "# index() 함수의 실행 결과가 0 이상이면 인수로 지정된 데이터가 리스트에 포함되어 있다는 의미로 사용할 수 있다.\n",
    "g = [1, 2, 3, 4, 3, 5, 3]\n",
    "print(g)\n",
    "print(g.index(3))\n",
    "print(g.index(6))"
   ]
  },
  {
   "cell_type": "code",
   "execution_count": 65,
   "metadata": {},
   "outputs": [
    {
     "name": "stdout",
     "output_type": "stream",
     "text": [
      "[1, 2, 3, 4, 3, 5, 3]\n",
      "3\n",
      "0\n"
     ]
    }
   ],
   "source": [
    "# count() 메소드는 인수로 지정된 데이터가 리스트에 포함되어있는 개수를 얻어온다.\n",
    "# count() 함수의 실행 결과가 1 이상이면 인수로 지정된 데이터가 리스트에 포함되어 있다는 의미로 사용할 수 있다.\n",
    "h = [1, 2, 3, 4, 3, 5, 3]\n",
    "print(h)\n",
    "print(h.count(3))\n",
    "print(h.count(6))"
   ]
  },
  {
   "cell_type": "code",
   "execution_count": 72,
   "metadata": {},
   "outputs": [
    {
     "name": "stdout",
     "output_type": "stream",
     "text": [
      "[1, 2, 3, 4, 3, 5, 3]\n",
      "None [1, 2, 4, 3, 5, 3]\n"
     ]
    }
   ],
   "source": [
    "# remove() 메소드는 인수로 지정된 데이터를 리스트에서 제거한다. => 첫 번째 데이터만 제거한다.\n",
    "i = [1, 2, 3, 4, 3, 5, 3]\n",
    "print(i)\n",
    "result = i.remove(3)\n",
    "print(result, i)"
   ]
  },
  {
   "cell_type": "code",
   "execution_count": 73,
   "metadata": {},
   "outputs": [
    {
     "name": "stdout",
     "output_type": "stream",
     "text": [
      "[1, 2, 3, 4, 3, 5, 3]\n",
      "[1, 2, 3, 4, 3, 5]\n",
      "[1, 2, 3, 4, 3]\n",
      "3 [1, 2, 4, 3]\n"
     ]
    }
   ],
   "source": [
    "# pop() 메소드는 리스트에 저장된 마지막 데이터를 얻어온 후 제거한다.\n",
    "j = [1, 2, 3, 4, 3, 5, 3]\n",
    "print(j)\n",
    "j.pop()\n",
    "print(j)\n",
    "j.pop()\n",
    "print(j)\n",
    "# pop() 메소드의 인수로 인덱스를 지정하면 지정된 인덱스 번째 데이터를 얻어온 후 제거한다.\n",
    "result = j.pop(2)\n",
    "print(result, j)"
   ]
  },
  {
   "cell_type": "code",
   "execution_count": 77,
   "metadata": {},
   "outputs": [
    {
     "name": "stdout",
     "output_type": "stream",
     "text": [
      "[1, 2, 3]\n",
      "[1, 2, 3, 4, 5]\n",
      "[1, 2, 3, 4, 5, 4, 5]\n",
      "[1, 2, 3, 4, 5, 4, 5, 4, 5]\n"
     ]
    }
   ],
   "source": [
    "# extend() 메소드는 리스트를 확장한다. => '+' 연산이 실행된다.\n",
    "k = [1, 2, 3]\n",
    "print(k)\n",
    "k.extend([4, 5])\n",
    "print(k)\n",
    "k = k + [4, 5]\n",
    "print(k)\n",
    "# 대입 연산자 : +=, -=, *=, /=, //=, %=\n",
    "k += [4, 5]\n",
    "print(k)"
   ]
  },
  {
   "cell_type": "code",
   "execution_count": null,
   "metadata": {},
   "outputs": [],
   "source": []
  },
  {
   "cell_type": "code",
   "execution_count": null,
   "metadata": {},
   "outputs": [],
   "source": []
  },
  {
   "cell_type": "code",
   "execution_count": null,
   "metadata": {},
   "outputs": [],
   "source": []
  },
  {
   "cell_type": "code",
   "execution_count": null,
   "metadata": {},
   "outputs": [],
   "source": []
  },
  {
   "cell_type": "code",
   "execution_count": null,
   "metadata": {},
   "outputs": [],
   "source": []
  },
  {
   "cell_type": "code",
   "execution_count": null,
   "metadata": {},
   "outputs": [],
   "source": []
  },
  {
   "cell_type": "code",
   "execution_count": null,
   "metadata": {},
   "outputs": [],
   "source": []
  }
 ],
 "metadata": {
  "kernelspec": {
   "display_name": "Python 3",
   "language": "python",
   "name": "python3"
  },
  "language_info": {
   "codemirror_mode": {
    "name": "ipython",
    "version": 3
   },
   "file_extension": ".py",
   "mimetype": "text/x-python",
   "name": "python",
   "nbconvert_exporter": "python",
   "pygments_lexer": "ipython3",
   "version": "3.6.8"
  }
 },
 "nbformat": 4,
 "nbformat_minor": 4
}

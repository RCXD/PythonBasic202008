{
 "cells": [
  {
   "cell_type": "markdown",
   "metadata": {},
   "source": [
    "for 명령은 반복 횟수가 몇 번인지 알 경우 사용한다.  \n",
    "  \n",
    "숫자 리스트를 만들어주는 함수는 range() 함수와 같이 사용하는 for  \n",
    "for 변수 in range([초기치, ]최종치[, 증가치]): => [] 안의 내용은 생략할 수 있다.  \n",
    "&nbsp;&nbsp;&nbsp;&nbsp;반복할 문장  \n",
    "&nbsp;&nbsp;&nbsp;&nbsp;..."
   ]
  },
  {
   "cell_type": "markdown",
   "metadata": {},
   "source": [
    "range([초기치, ]최종치[, 증가치]) : 초기치 부터 최종치 - 1 까지 증가치 만큼 증가하는 숫자 리스트를 만든다.  \n",
    "초기치와 증가치는 생략할 수 있으며 초기치를 생략하면 0, 증가치를 생략하면 1이 기본값으로 사용된다.  \n",
    "range(0, 10, 1)와 range(10)는 의미가 같다."
   ]
  },
  {
   "cell_type": "code",
   "execution_count": 7,
   "metadata": {},
   "outputs": [
    {
     "name": "stdout",
     "output_type": "stream",
     "text": [
      "[0, 1, 2, 3, 4, 5, 6, 7, 8, 9]\n"
     ]
    }
   ],
   "source": [
    "a = list(range(0, 10, 1))\n",
    "print(a)"
   ]
  },
  {
   "cell_type": "code",
   "execution_count": 6,
   "metadata": {},
   "outputs": [
    {
     "name": "stdout",
     "output_type": "stream",
     "text": [
      "0 1 2 3 4 5 6 7 8 9 "
     ]
    }
   ],
   "source": [
    "for i in range(0, 10, 1):\n",
    "    print(i, end = ' ')"
   ]
  },
  {
   "cell_type": "code",
   "execution_count": 8,
   "metadata": {},
   "outputs": [
    {
     "name": "stdout",
     "output_type": "stream",
     "text": [
      "[0, 1, 2, 3, 4, 5, 6, 7, 8, 9]\n"
     ]
    }
   ],
   "source": [
    "b = list(range(10))\n",
    "print(b)"
   ]
  },
  {
   "cell_type": "code",
   "execution_count": 9,
   "metadata": {},
   "outputs": [
    {
     "name": "stdout",
     "output_type": "stream",
     "text": [
      "0 1 2 3 4 5 6 7 8 9 "
     ]
    }
   ],
   "source": [
    "for i in range(10):\n",
    "    print(i, end = ' ')"
   ]
  },
  {
   "cell_type": "code",
   "execution_count": 10,
   "metadata": {},
   "outputs": [
    {
     "name": "stdout",
     "output_type": "stream",
     "text": [
      "1 3 5 7 9 "
     ]
    }
   ],
   "source": [
    "for i in range(1, 10, 2):\n",
    "    print(i, end = ' ')"
   ]
  },
  {
   "cell_type": "code",
   "execution_count": 12,
   "metadata": {},
   "outputs": [
    {
     "name": "stdout",
     "output_type": "stream",
     "text": [
      "2 4 6 8 10 "
     ]
    }
   ],
   "source": [
    "for i in range(2, 11, 2):\n",
    "    print(i, end = ' ')"
   ]
  },
  {
   "cell_type": "code",
   "execution_count": 13,
   "metadata": {},
   "outputs": [
    {
     "name": "stdout",
     "output_type": "stream",
     "text": [
      "[10, 9, 8, 7, 6, 5, 4, 3, 2, 1]\n"
     ]
    }
   ],
   "source": [
    "c = list(range(10, 0, -1))\n",
    "print(c)"
   ]
  },
  {
   "cell_type": "code",
   "execution_count": 14,
   "metadata": {},
   "outputs": [
    {
     "name": "stdout",
     "output_type": "stream",
     "text": [
      "10 9 8 7 6 5 4 3 2 1 "
     ]
    }
   ],
   "source": [
    "for i in range(10, 0, -1):\n",
    "    print(i, end = ' ')"
   ]
  },
  {
   "cell_type": "code",
   "execution_count": 15,
   "metadata": {},
   "outputs": [
    {
     "name": "stdout",
     "output_type": "stream",
     "text": [
      "1 ~ 100의 합게 : 5050\n"
     ]
    }
   ],
   "source": [
    "# 1 ~ 100의 합계\n",
    "total = 0\n",
    "for i in range(1, 101, 1):\n",
    "    total += i\n",
    "print('1 ~ 100의 합게 : {}'.format(total))"
   ]
  },
  {
   "cell_type": "markdown",
   "metadata": {},
   "source": [
    "주사위를 10번 굴렸을 때 발생되는 각각의 눈의 개수를 계산한다. - 변수 사용"
   ]
  },
  {
   "cell_type": "code",
   "execution_count": 29,
   "metadata": {},
   "outputs": [
    {
     "name": "stdout",
     "output_type": "stream",
     "text": [
      " 1번째 주사위가 데구르르~~~ 굴러서 4가 나왔습니다.\n",
      " 2번째 주사위가 데구르르~~~ 굴러서 2가 나왔습니다.\n",
      " 3번째 주사위가 데구르르~~~ 굴러서 6가 나왔습니다.\n",
      " 4번째 주사위가 데구르르~~~ 굴러서 4가 나왔습니다.\n",
      " 5번째 주사위가 데구르르~~~ 굴러서 2가 나왔습니다.\n",
      " 6번째 주사위가 데구르르~~~ 굴러서 5가 나왔습니다.\n",
      " 7번째 주사위가 데구르르~~~ 굴러서 6가 나왔습니다.\n",
      " 8번째 주사위가 데구르르~~~ 굴러서 1가 나왔습니다.\n",
      " 9번째 주사위가 데구르르~~~ 굴러서 6가 나왔습니다.\n",
      "10번째 주사위가 데구르르~~~ 굴러서 6가 나왔습니다.\n",
      "1의 개수 : 1개\n",
      "2의 개수 : 2개\n",
      "3의 개수 : 0개\n",
      "4의 개수 : 2개\n",
      "5의 개수 : 1개\n",
      "6의 개수 : 4개\n"
     ]
    }
   ],
   "source": [
    "import random\n",
    "a = 0; b = 0; c = 0; d = 0; e = 0; f = 0 # ';'으로 문장을 구분하면 한 줄여 여러개의 문장을 입력할 수 있다.\n",
    "for i in range(10):\n",
    "    r = random.randrange(1, 7) # 랜덤하게 주사위 눈을 발생시킨다.\n",
    "    print('{0:2d}번째 주사위가 데구르르~~~ 굴러서 {1}가 나왔습니다.'.format(i + 1, r))\n",
    "    \n",
    "    # 주사위 눈의 개수를 센다.\n",
    "    if r == 1:\n",
    "        a += 1\n",
    "    elif r == 2:\n",
    "        b += 1\n",
    "    elif r == 3:\n",
    "        c += 1\n",
    "    elif r == 4:\n",
    "        d += 1\n",
    "    elif r == 5:\n",
    "        e += 1\n",
    "    else:\n",
    "        f += 1\n",
    "# ================ for 끝\n",
    "\n",
    "# 주사위 눈의 개수를 출력한다.\n",
    "print('1의 개수 : {}개'.format(a))\n",
    "print('2의 개수 : {}개'.format(b))\n",
    "print('3의 개수 : {}개'.format(c))\n",
    "print('4의 개수 : {}개'.format(d))\n",
    "print('5의 개수 : {}개'.format(e))\n",
    "print('6의 개수 : {}개'.format(f))"
   ]
  },
  {
   "cell_type": "markdown",
   "metadata": {},
   "source": [
    "주사위를 10번 굴렸을 때 발생되는 각각의 눈의 개수를 계산한다. - 리스트(배열) 사용"
   ]
  },
  {
   "cell_type": "code",
   "execution_count": 36,
   "metadata": {},
   "outputs": [
    {
     "name": "stdout",
     "output_type": "stream",
     "text": [
      " 1번째 주사위가 데구르르~~~ 굴러서 4가 나왔습니다.\n",
      " 2번째 주사위가 데구르르~~~ 굴러서 3가 나왔습니다.\n",
      " 3번째 주사위가 데구르르~~~ 굴러서 1가 나왔습니다.\n",
      " 4번째 주사위가 데구르르~~~ 굴러서 1가 나왔습니다.\n",
      " 5번째 주사위가 데구르르~~~ 굴러서 1가 나왔습니다.\n",
      " 6번째 주사위가 데구르르~~~ 굴러서 3가 나왔습니다.\n",
      " 7번째 주사위가 데구르르~~~ 굴러서 2가 나왔습니다.\n",
      " 8번째 주사위가 데구르르~~~ 굴러서 2가 나왔습니다.\n",
      " 9번째 주사위가 데구르르~~~ 굴러서 1가 나왔습니다.\n",
      "10번째 주사위가 데구르르~~~ 굴러서 6가 나왔습니다.\n",
      "1의 개수 : 4개\n",
      "2의 개수 : 2개\n",
      "3의 개수 : 2개\n",
      "4의 개수 : 1개\n",
      "5의 개수 : 0개\n",
      "6의 개수 : 1개\n"
     ]
    }
   ],
   "source": [
    "import random\n",
    "# 1 ~ 6 사이의 숫자를 기억할 0으로 초기화된 리스트를 선언한다.\n",
    "# count = [0, 0, 0, 0, 0, 0]\n",
    "# 빈 리스트를 선언하고 0을 6개 추가한다.\n",
    "count = []\n",
    "for i in range(6):\n",
    "    count.append(0)\n",
    "# 0이 6번 반복되는 리스트를 만든다.\n",
    "# count = [0 for i in range(6)]\n",
    "# print(count)\n",
    "\n",
    "for i in range(10):\n",
    "    r = random.randrange(1, 7)\n",
    "    print('{0:2d}번째 주사위가 데구르르~~~ 굴러서 {1}가 나왔습니다.'.format(i + 1, r))\n",
    "    \n",
    "    if r == 1:\n",
    "        count[0] += 1\n",
    "    elif r == 2:\n",
    "        count[1] += 1\n",
    "    elif r == 3:\n",
    "        count[2] += 1\n",
    "    elif r == 4:\n",
    "        count[3] += 1\n",
    "    elif r == 5:\n",
    "        count[4] += 1\n",
    "    else:\n",
    "        count[5] += 1\n",
    "# ================ for 끝\n",
    "\n",
    "print('1의 개수 : {}개'.format(count[0]))\n",
    "print('2의 개수 : {}개'.format(count[1]))\n",
    "print('3의 개수 : {}개'.format(count[2]))\n",
    "print('4의 개수 : {}개'.format(count[3]))\n",
    "print('5의 개수 : {}개'.format(count[4]))\n",
    "print('6의 개수 : {}개'.format(count[5]))"
   ]
  },
  {
   "cell_type": "code",
   "execution_count": 44,
   "metadata": {},
   "outputs": [
    {
     "name": "stdout",
     "output_type": "stream",
     "text": [
      "1의 개수 : 166340개\n",
      "2의 개수 : 166861개\n",
      "3의 개수 : 166933개\n",
      "4의 개수 : 166445개\n",
      "5의 개수 : 167168개\n",
      "6의 개수 : 166253개\n"
     ]
    }
   ],
   "source": [
    "import random\n",
    "count = []\n",
    "for i in range(6):\n",
    "    count.append(0)\n",
    "# print(len(count))\n",
    "\n",
    "for i in range(1000000):\n",
    "    r = random.randrange(1, 7)\n",
    "    # print('{0:2d}번째 주사위가 데구르르~~~ 굴러서 {1}가 나왔습니다.'.format(i + 1, r))\n",
    "    count[r - 1] += 1\n",
    "# ================ for 끝\n",
    "\n",
    "for i in range(len(count)):\n",
    "    print('{}의 개수 : {}개'.format(i + 1, count[i]))"
   ]
  },
  {
   "cell_type": "code",
   "execution_count": 52,
   "metadata": {},
   "outputs": [
    {
     "name": "stdout",
     "output_type": "stream",
     "text": [
      "['Life', 'is', 'too', 'short']\n",
      "================================================================================\n",
      "Life\n",
      "is\n",
      "too\n",
      "short\n",
      "================================================================================\n",
      "Life\n",
      "is\n",
      "too\n",
      "short\n",
      "================================================================================\n",
      "Life\n",
      "is\n",
      "too\n",
      "short\n",
      "================================================================================\n",
      "is\n",
      "too\n",
      "================================================================================\n"
     ]
    }
   ],
   "source": [
    "# 리스트와 for\n",
    "d = ['Life', 'is', 'too', 'short']\n",
    "print(d)\n",
    "print('=' * 80)\n",
    "\n",
    "# 리스트에 저장된 데이터의 개수가 변하지 않는다면 지정한 크기만큼 반복시킨다.\n",
    "for i in range(4):\n",
    "    print(d[i])\n",
    "print('=' * 80)\n",
    "\n",
    "# 리스트에 저장된 데이터의 개수가 변경될 수 있으므로 len() 함수를 사용해서 리스트에 저장된 데이터의 개수를 얻어와서\n",
    "# 데이터의 개수 만큼 반복시킨다.\n",
    "for i in range(len(d)):\n",
    "    print(d[i])\n",
    "print('=' * 80)\n",
    "\n",
    "# range() 함수를 사용하지 않고 리스트, 튜플, 딕셔너리, 셋을 사용하면 저장된 0번째 데이터 부터 마지막 데이터 까지 변수에\n",
    "# 저장하며 반복한다.\n",
    "for i in d:\n",
    "    print(i)\n",
    "print('=' * 80)\n",
    "\n",
    "# 슬라이싱 기능을 이용하면 리스트, 튜플, 딕셔너리의 일부만 반복 시킬 수 있다.\n",
    "for i in d[1:3]:\n",
    "    print(i)\n",
    "print('=' * 80)"
   ]
  },
  {
   "cell_type": "code",
   "execution_count": null,
   "metadata": {},
   "outputs": [],
   "source": []
  },
  {
   "cell_type": "code",
   "execution_count": null,
   "metadata": {},
   "outputs": [],
   "source": []
  },
  {
   "cell_type": "code",
   "execution_count": null,
   "metadata": {},
   "outputs": [],
   "source": []
  },
  {
   "cell_type": "code",
   "execution_count": null,
   "metadata": {},
   "outputs": [],
   "source": []
  },
  {
   "cell_type": "code",
   "execution_count": null,
   "metadata": {},
   "outputs": [],
   "source": []
  },
  {
   "cell_type": "code",
   "execution_count": null,
   "metadata": {},
   "outputs": [],
   "source": []
  },
  {
   "cell_type": "code",
   "execution_count": null,
   "metadata": {},
   "outputs": [],
   "source": []
  },
  {
   "cell_type": "code",
   "execution_count": null,
   "metadata": {},
   "outputs": [],
   "source": []
  }
 ],
 "metadata": {
  "kernelspec": {
   "display_name": "Python 3",
   "language": "python",
   "name": "python3"
  },
  "language_info": {
   "codemirror_mode": {
    "name": "ipython",
    "version": 3
   },
   "file_extension": ".py",
   "mimetype": "text/x-python",
   "name": "python",
   "nbconvert_exporter": "python",
   "pygments_lexer": "ipython3",
   "version": "3.6.8"
  }
 },
 "nbformat": 4,
 "nbformat_minor": 4
}

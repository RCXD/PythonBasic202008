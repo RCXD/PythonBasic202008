{
 "cells": [
  {
   "cell_type": "markdown",
   "metadata": {},
   "source": [
    "set 만들기  \n",
    "set은 수학의 집합과 비슷한 형태로 중복되는 데이터의 입력을 허용하지 않는 장점이 있지만 데이터를 입력는 순서와 실제로 데이터가 저장되는 순서가 다르다.  \n",
    "딕셔너리 처럼 {}를 사용해서 선언하지만 key가 존재하지 않고 value만 존재한다."
   ]
  },
  {
   "cell_type": "code",
   "execution_count": 1,
   "metadata": {},
   "outputs": [
    {
     "name": "stdout",
     "output_type": "stream",
     "text": [
      "{}\n",
      "<class 'dict'>\n",
      "set()\n",
      "<class 'set'>\n"
     ]
    }
   ],
   "source": [
    "a = {}\n",
    "print(a)\n",
    "print(type(a))\n",
    "# 빈 set을 만들어서 사용해야 한다면 반드시 생성자를 이용해서 만들어야 한다.\n",
    "b = set()\n",
    "print(b)\n",
    "print(type(b))"
   ]
  },
  {
   "cell_type": "code",
   "execution_count": 2,
   "metadata": {},
   "outputs": [
    {
     "name": "stdout",
     "output_type": "stream",
     "text": [
      "{1, 2, 3, 4}\n",
      "<class 'set'>\n"
     ]
    }
   ],
   "source": [
    "c = {1, 2, 3, 4}\n",
    "print(c)\n",
    "print(type(c))"
   ]
  },
  {
   "cell_type": "code",
   "execution_count": 3,
   "metadata": {},
   "outputs": [
    {
     "name": "stdout",
     "output_type": "stream",
     "text": [
      "{1, 2, 3, 4, 5, 6}\n",
      "<class 'set'>\n"
     ]
    }
   ],
   "source": [
    "d = {1, 2, 3, 4, 5, 1, 4, 6, 1, 3, 1}\n",
    "print(d)\n",
    "print(type(d))"
   ]
  },
  {
   "cell_type": "code",
   "execution_count": 4,
   "metadata": {},
   "outputs": [
    {
     "name": "stdout",
     "output_type": "stream",
     "text": [
      "{'홍길동'}\n",
      "{'홍길동', '임꺽정'}\n",
      "{'홍길동', '임꺽정', '장길산'}\n",
      "{'일지매', '홍길동', '임꺽정', '장길산'}\n"
     ]
    }
   ],
   "source": [
    "# add() 메소드는 set에 데이터를 추가한다. => 데이터를 저장하는 순서와 실제 저장되는 순서가 다르다.\n",
    "e = {'홍길동'}\n",
    "print(e)\n",
    "e.add('임꺽정')\n",
    "print(e)\n",
    "e.add('장길산')\n",
    "print(e)\n",
    "e.add('일지매')\n",
    "print(e)"
   ]
  },
  {
   "cell_type": "code",
   "execution_count": 5,
   "metadata": {},
   "outputs": [
    {
     "name": "stdout",
     "output_type": "stream",
     "text": [
      "{'일지매', '임꺽정', '손오공', '장길산', '저팔계', '홍길동', '사오정'}\n",
      "{'일지매', '임꺽정', '손오공', '트랭크스', '장길산', '저팔계', '홍길동', '사오정', '브루마', '베지터'}\n"
     ]
    }
   ],
   "source": [
    "# update() 메소드를 사용하면 리스트 또는 튜플을 이용해서 set에 여러 건의 데이터를 한 번에 추가할 수 있다.\n",
    "e.update(['손오공', '저팔계', '사오정']) # 리스트 사용\n",
    "print(e)\n",
    "e.update(('베지터', '브루마', '트랭크스')) # 튜플 사용\n",
    "print(e)"
   ]
  },
  {
   "cell_type": "code",
   "execution_count": 6,
   "metadata": {},
   "outputs": [
    {
     "name": "stdout",
     "output_type": "stream",
     "text": [
      "{'일지매', '임꺽정', '손오공', '트랭크스', '장길산', '홍길동', '사오정', '브루마', '베지터'}\n"
     ]
    },
    {
     "ename": "KeyError",
     "evalue": "'저팔계'",
     "output_type": "error",
     "traceback": [
      "\u001b[1;31m---------------------------------------------------------------------------\u001b[0m",
      "\u001b[1;31mKeyError\u001b[0m                                  Traceback (most recent call last)",
      "\u001b[1;32m<ipython-input-6-aaf7b5b639f1>\u001b[0m in \u001b[0;36m<module>\u001b[1;34m\u001b[0m\n\u001b[0;32m      2\u001b[0m \u001b[0me\u001b[0m\u001b[1;33m.\u001b[0m\u001b[0mremove\u001b[0m\u001b[1;33m(\u001b[0m\u001b[1;34m'저팔계'\u001b[0m\u001b[1;33m)\u001b[0m\u001b[1;33m\u001b[0m\u001b[1;33m\u001b[0m\u001b[0m\n\u001b[0;32m      3\u001b[0m \u001b[0mprint\u001b[0m\u001b[1;33m(\u001b[0m\u001b[0me\u001b[0m\u001b[1;33m)\u001b[0m\u001b[1;33m\u001b[0m\u001b[1;33m\u001b[0m\u001b[0m\n\u001b[1;32m----> 4\u001b[1;33m \u001b[0me\u001b[0m\u001b[1;33m.\u001b[0m\u001b[0mremove\u001b[0m\u001b[1;33m(\u001b[0m\u001b[1;34m'저팔계'\u001b[0m\u001b[1;33m)\u001b[0m\u001b[1;33m\u001b[0m\u001b[1;33m\u001b[0m\u001b[0m\n\u001b[0m",
      "\u001b[1;31mKeyError\u001b[0m: '저팔계'"
     ]
    }
   ],
   "source": [
    "# remove() 메소드로 set에 저장된 데이터를 제거한다.\n",
    "e.remove('저팔계')\n",
    "print(e)\n",
    "e.remove('저팔계') # remove() 메소드는 set에 존재하지 않는 데이터를 삭제하면 에러가 발생된다."
   ]
  },
  {
   "cell_type": "code",
   "execution_count": 7,
   "metadata": {},
   "outputs": [
    {
     "name": "stdout",
     "output_type": "stream",
     "text": [
      "{'일지매', '임꺽정', '손오공', '트랭크스', '장길산', '홍길동', '브루마', '베지터'}\n"
     ]
    }
   ],
   "source": [
    "# discard() 메소드로 set에 저장된 데이터를 제거한다.\n",
    "e.discard('사오정')\n",
    "print(e)\n",
    "# discard() 메소드는 remove() 메소드와 달리 set에 없는 데이터를 삭제해도 에러가 발생되지 않는다.\n",
    "e.discard('사오정')"
   ]
  },
  {
   "cell_type": "markdown",
   "metadata": {},
   "source": [
    "집합 연산자와 메소드"
   ]
  },
  {
   "cell_type": "code",
   "execution_count": 14,
   "metadata": {},
   "outputs": [
    {
     "name": "stdout",
     "output_type": "stream",
     "text": [
      "{1, 2, 3, 4, 5, 6, 7}\n",
      "{1, 2, 3, 4, 5, 6, 7}\n",
      "{3, 4, 5}\n",
      "{3, 4, 5}\n",
      "{1, 2}\n",
      "{1, 2}\n",
      "{6, 7}\n",
      "{6, 7}\n",
      "{1, 2, 6, 7}\n",
      "{1, 2, 6, 7}\n"
     ]
    }
   ],
   "source": [
    "f = {1, 2, 3, 4, 5}\n",
    "g = {3, 4, 5, 6, 7}\n",
    "\n",
    "# 합집합 => union(), |\n",
    "print(f.union(g))\n",
    "print(f | g)\n",
    "\n",
    "# 교집합 => intersection, &\n",
    "print(f.intersection(g))\n",
    "print(f & g)\n",
    "\n",
    "# 차집합 => difference, -\n",
    "print(f.difference(g))\n",
    "print(f - g)\n",
    "print(g.difference(f))\n",
    "print(g - f)\n",
    "\n",
    "# 대칭 차집합(합집합 - 교집합) => symmetric_difference, ^\n",
    "print(f.symmetric_difference(g))\n",
    "print(f ^ g)"
   ]
  },
  {
   "cell_type": "code",
   "execution_count": null,
   "metadata": {},
   "outputs": [],
   "source": []
  },
  {
   "cell_type": "code",
   "execution_count": null,
   "metadata": {},
   "outputs": [],
   "source": []
  },
  {
   "cell_type": "code",
   "execution_count": null,
   "metadata": {},
   "outputs": [],
   "source": []
  },
  {
   "cell_type": "code",
   "execution_count": null,
   "metadata": {},
   "outputs": [],
   "source": []
  },
  {
   "cell_type": "code",
   "execution_count": null,
   "metadata": {},
   "outputs": [],
   "source": []
  },
  {
   "cell_type": "code",
   "execution_count": null,
   "metadata": {},
   "outputs": [],
   "source": []
  },
  {
   "cell_type": "code",
   "execution_count": null,
   "metadata": {},
   "outputs": [],
   "source": []
  },
  {
   "cell_type": "code",
   "execution_count": null,
   "metadata": {},
   "outputs": [],
   "source": []
  }
 ],
 "metadata": {
  "kernelspec": {
   "display_name": "Python 3",
   "language": "python",
   "name": "python3"
  },
  "language_info": {
   "codemirror_mode": {
    "name": "ipython",
    "version": 3
   },
   "file_extension": ".py",
   "mimetype": "text/x-python",
   "name": "python",
   "nbconvert_exporter": "python",
   "pygments_lexer": "ipython3",
   "version": "3.6.8"
  }
 },
 "nbformat": 4,
 "nbformat_minor": 4
}

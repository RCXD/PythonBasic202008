{
 "cells": [
  {
   "cell_type": "markdown",
   "metadata": {},
   "source": [
    "딕셔너리 만들기  \n",
    "대응 관계를 나타내는 자료형으로 key와 key에 할당되는 데이터(value)가 한 쌍이 되는 자료형이다.  \n",
    "{key: value, key: value, ...}와 같은 형태를 가지는 자료형을 의미한다.  \n",
    "key는 일반적으로 string 형태로 사용하고 value 딕셔너리에 저장할 데이터를 입력한다."
   ]
  },
  {
   "cell_type": "code",
   "execution_count": 3,
   "metadata": {},
   "outputs": [
    {
     "name": "stdout",
     "output_type": "stream",
     "text": [
      "{}\n",
      "<class 'dict'>\n",
      "{}\n",
      "<class 'dict'>\n"
     ]
    }
   ],
   "source": [
    "# 빈 딕셔너리 만들기\n",
    "a = {}\n",
    "print(a)\n",
    "print(type(a))\n",
    "# 생성자를 사용해서 딕셔너리를 만들 수 있다.\n",
    "b = dict()\n",
    "print(b)\n",
    "print(type(b))"
   ]
  },
  {
   "cell_type": "code",
   "execution_count": 6,
   "metadata": {},
   "outputs": [
    {
     "name": "stdout",
     "output_type": "stream",
     "text": [
      "{'name': '홍길동', 'phone': '010-1234-5678', 'age': 20}\n",
      "<class 'dict'>\n"
     ]
    }
   ],
   "source": [
    "c = {'name': '홍길동', 'phone': '010-1234-5678', 'age': 20}\n",
    "print(c)\n",
    "print(type(c))"
   ]
  },
  {
   "cell_type": "markdown",
   "metadata": {},
   "source": [
    "딕셔너리에 데이터 추가 및 수정하기  \n",
    "존재하지 않는 key에 value를 할당하면 데이터가 추가되고 존재하는 key에 데이터를 할당하면 데이터가 수정된다."
   ]
  },
  {
   "cell_type": "code",
   "execution_count": 10,
   "metadata": {},
   "outputs": [
    {
     "name": "stdout",
     "output_type": "stream",
     "text": [
      "{'name': '홍길동', 'phone': '010-1234-5678', 'age': 20, 'gender': '남'}\n",
      "{'name': '홍길동', 'phone': '010-1234-5678', 'age': 20, 'gender': '여'}\n"
     ]
    }
   ],
   "source": [
    "# 딕셔너리이름[key] = value\n",
    "c['gender'] = '남' # 추가\n",
    "print(c)\n",
    "c['gender'] = '여' # 추가\n",
    "print(c)"
   ]
  },
  {
   "cell_type": "markdown",
   "metadata": {},
   "source": [
    "딕셔너리에 저장된 데이터 삭제하기"
   ]
  },
  {
   "cell_type": "code",
   "execution_count": 11,
   "metadata": {},
   "outputs": [
    {
     "name": "stdout",
     "output_type": "stream",
     "text": [
      "{'name': '홍길동', 'phone': '010-1234-5678', 'age': 20}\n"
     ]
    }
   ],
   "source": [
    "# del 딕셔너리이름[key]\n",
    "del c['gender']\n",
    "print(c)"
   ]
  },
  {
   "cell_type": "markdown",
   "metadata": {},
   "source": [
    "딕셔너리에 저장된 데이터 얻어오기"
   ]
  },
  {
   "cell_type": "code",
   "execution_count": 13,
   "metadata": {},
   "outputs": [
    {
     "name": "stdout",
     "output_type": "stream",
     "text": [
      "홍길동\n",
      "010-1234-5678\n"
     ]
    }
   ],
   "source": [
    "# 딕셔너리이름[key] 또는 딕셔너리이름.get(key)\n",
    "print(c['name'])\n",
    "print(c.get('phone'))"
   ]
  },
  {
   "cell_type": "markdown",
   "metadata": {},
   "source": [
    "딕셔너리 메소드"
   ]
  },
  {
   "cell_type": "code",
   "execution_count": 16,
   "metadata": {},
   "outputs": [
    {
     "name": "stdout",
     "output_type": "stream",
     "text": [
      "dict_keys(['name', 'phone', 'age'])\n",
      "dict_values(['홍길동', '010-1234-5678', 20])\n",
      "dict_items([('name', '홍길동'), ('phone', '010-1234-5678'), ('age', 20)])\n"
     ]
    }
   ],
   "source": [
    "# keys() 메소드는 딕셔너리에서 key 목록만 얻어온다.\n",
    "print(c.keys())\n",
    "# values() 메소드는 딕셔너리에서 value 목록만 얻어온다.\n",
    "print(c.values())\n",
    "# items() 메소드는 딕셔너리에서 key와 value를 쌍으로 묶은 튜플을 얻어온다.\n",
    "print(c.items())"
   ]
  },
  {
   "cell_type": "markdown",
   "metadata": {},
   "source": [
    "in 연산자, not in 연산자  \n",
    "in 연산자 in 앞의 key가 in 뒤의 딕셔너리에 존재하면 True, 그렇치 않으면 False를 리턴한다.  \n",
    "not in 연산자는 in 연산자의 기능을 반대로 실행한다. 부정한다."
   ]
  },
  {
   "cell_type": "code",
   "execution_count": 18,
   "metadata": {},
   "outputs": [
    {
     "name": "stdout",
     "output_type": "stream",
     "text": [
      "True\n",
      "False\n"
     ]
    }
   ],
   "source": [
    "print('name' in c)\n",
    "print('name' not in c)"
   ]
  },
  {
   "cell_type": "code",
   "execution_count": 19,
   "metadata": {},
   "outputs": [
    {
     "name": "stdout",
     "output_type": "stream",
     "text": [
      "{}\n"
     ]
    }
   ],
   "source": [
    "# clear() 메소드는 딕셔너리에 저장된 모든 데이터를 삭제한다.\n",
    "c.clear()\n",
    "print(c)"
   ]
  },
  {
   "cell_type": "code",
   "execution_count": 20,
   "metadata": {},
   "outputs": [
    {
     "ename": "NameError",
     "evalue": "name 'c' is not defined",
     "output_type": "error",
     "traceback": [
      "\u001b[1;31m---------------------------------------------------------------------------\u001b[0m",
      "\u001b[1;31mNameError\u001b[0m                                 Traceback (most recent call last)",
      "\u001b[1;32m<ipython-input-20-b49f33680541>\u001b[0m in \u001b[0;36m<module>\u001b[1;34m\u001b[0m\n\u001b[0;32m      1\u001b[0m \u001b[1;31m# del 명령을 사용하면 딕셔너리 자체를 삭제한다.\u001b[0m\u001b[1;33m\u001b[0m\u001b[1;33m\u001b[0m\u001b[1;33m\u001b[0m\u001b[0m\n\u001b[0;32m      2\u001b[0m \u001b[1;32mdel\u001b[0m \u001b[0mc\u001b[0m\u001b[1;33m\u001b[0m\u001b[1;33m\u001b[0m\u001b[0m\n\u001b[1;32m----> 3\u001b[1;33m \u001b[0mprint\u001b[0m\u001b[1;33m(\u001b[0m\u001b[0mc\u001b[0m\u001b[1;33m)\u001b[0m\u001b[1;33m\u001b[0m\u001b[1;33m\u001b[0m\u001b[0m\n\u001b[0m",
      "\u001b[1;31mNameError\u001b[0m: name 'c' is not defined"
     ]
    }
   ],
   "source": [
    "# del 명령을 사용하면 딕셔너리 자체를 삭제한다.\n",
    "del c\n",
    "print(c)"
   ]
  },
  {
   "cell_type": "code",
   "execution_count": null,
   "metadata": {},
   "outputs": [],
   "source": []
  },
  {
   "cell_type": "code",
   "execution_count": null,
   "metadata": {},
   "outputs": [],
   "source": []
  },
  {
   "cell_type": "code",
   "execution_count": null,
   "metadata": {},
   "outputs": [],
   "source": []
  },
  {
   "cell_type": "code",
   "execution_count": null,
   "metadata": {},
   "outputs": [],
   "source": []
  },
  {
   "cell_type": "code",
   "execution_count": null,
   "metadata": {},
   "outputs": [],
   "source": []
  }
 ],
 "metadata": {
  "kernelspec": {
   "display_name": "Python 3",
   "language": "python",
   "name": "python3"
  },
  "language_info": {
   "codemirror_mode": {
    "name": "ipython",
    "version": 3
   },
   "file_extension": ".py",
   "mimetype": "text/x-python",
   "name": "python",
   "nbconvert_exporter": "python",
   "pygments_lexer": "ipython3",
   "version": "3.6.8"
  }
 },
 "nbformat": 4,
 "nbformat_minor": 4
}

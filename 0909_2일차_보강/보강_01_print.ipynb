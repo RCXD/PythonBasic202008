{
 "cells": [
  {
   "cell_type": "code",
   "execution_count": 1,
   "metadata": {},
   "outputs": [],
   "source": [
    "# \"#\"으로 시작하면 한 줄 주석 => 컴파일러나 인터프리터가 번역하지 않는다. => 프로그램 실행과 아무런 상관이 없다. => 설명\n",
    "# ''' 부터 ''' 사이에 코딩하면 범위 주석을 지정할 수 있다."
   ]
  },
  {
   "cell_type": "code",
   "execution_count": 2,
   "metadata": {},
   "outputs": [
    {
     "name": "stdout",
     "output_type": "stream",
     "text": [
      "Hello Python\n",
      "안녕 파이썬\n",
      "제2외국어를 배운 호랑이가 '야옹' 했습니다.\n",
      "제2외국어를 배운 고양이가 \"어흥\" 했습니다.\n",
      "제2외국어를 배운 호랑이가 \"야옹\" 했습니다.\n",
      "제2외국어를 배운 고양이가 '어흥' 했습니다.\n"
     ]
    }
   ],
   "source": [
    "# print() 함수는 ()안의 내용을 출력하고 줄을 바꾼다.\n",
    "print(\"Hello Python\")\n",
    "print('안녕 파이썬')\n",
    "print(\"제2외국어를 배운 호랑이가 '야옹' 했습니다.\")\n",
    "print('제2외국어를 배운 고양이가 \"어흥\" 했습니다.')\n",
    "print(\"제2외국어를 배운 호랑이가 \\\"야옹\\\" 했습니다.\")\n",
    "print('제2외국어를 배운 고양이가 \\'어흥\\' 했습니다.')"
   ]
  },
  {
   "cell_type": "code",
   "execution_count": 3,
   "metadata": {},
   "outputs": [
    {
     "name": "stdout",
     "output_type": "stream",
     "text": [
      "Hello \n",
      "Python안녕 파이썬\n"
     ]
    }
   ],
   "source": [
    "# print() 함수로 출력 후 줄을 변경하지 않으려면 아래와 같이 end = \"\" 옵션을 지정한다.\n",
    "# end 옵션은 print() 함수로 출력한 후 출력할 내용을 지정한다. => end 옵션을 생략하면 \"\\n\"이 기본값으로 사용된다. => \"\\n\"은 new line을 의미한다.\n",
    "print(\"Hello \\nPython\", end = \"\")\n",
    "print('안녕 파이썬')"
   ]
  },
  {
   "cell_type": "code",
   "execution_count": 4,
   "metadata": {},
   "outputs": [
    {
     "name": "stdout",
     "output_type": "stream",
     "text": [
      "Hello Python 안녕 파이썬\n",
      "Hello Python 안녕 파이썬\n",
      "Hello Python^^;안녕 파이썬\n",
      "Hello Python안녕 파이썬\n",
      "^^;^^;^^;^^;^^;^^;^^;^^;^^;^^;^^;^^;^^;^^;^^;^^;^^;^^;^^;^^;^^;^^;^^;^^;^^;^^;^^;^^;^^;^^;^^;^^;^^;^^;^^;^^;^^;^^;^^;^^;^^;^^;^^;^^;^^;^^;^^;^^;^^;^^;\n"
     ]
    }
   ],
   "source": [
    "# print() 함수로 2개 이상의 데이터를 출력하려면 \",\"나 \"+\"로 구분해서 출력한다.\n",
    "# \",\"로 데이터를 구분하면 sep 옵션으로 지정한 내용이 데이터와 데이터 사이에 출력된다. => sep 옵션을 생략하면 공백이 기본값으로 사용된다.\n",
    "print(\"Hello Python\", '안녕 파이썬')\n",
    "print(\"Hello Python\", '안녕 파이썬', sep = \" \")\n",
    "print(\"Hello Python\", '안녕 파이썬', sep = \"^^;\")\n",
    "# \"+\"로 데이터를 구분하면 \"+\" 앞의 문자열에 \"+\" 뒤의 문자열이 붙어서 출력된다.\n",
    "# \"+\"은 숫자 데이터에서 사용하면 덧셈을 실행하지만 문자 데이터에서 사용하면 문자열을 연결하는 연결 연산자로 사용된다.\n",
    "print(\"Hello Python\" + '안녕 파이썬')\n",
    "# print() 함수에서 문자열 뒤에 \"*\"를 입력하고 숫자를 입력하면 입력한 숫자만큼 문자열이 반복되서 출력된다.\n",
    "print(\"^^;\" * 50)"
   ]
  },
  {
   "cell_type": "markdown",
   "metadata": {},
   "source": [
    "\"%\"와 서식 문자를 사용해서 출력하기"
   ]
  },
  {
   "cell_type": "code",
   "execution_count": 5,
   "metadata": {},
   "outputs": [],
   "source": [
    "# 서식 문자\n",
    "# %d(정수), %f(실수), %s(문자, 문자열)를 사용해 출력 서식을 지정할 수 있고 서식 문자를 제외한 나머지 문자들은 입력한 그대로 출력된다.\n",
    "# 출력 서식의 형식\n",
    "# %[-][0][n][.m]서식문자 => []안의 내용은 생략할 수 있다. => 필요할 경우 사용한다.\n",
    "# - : 전체 자리수(n)가 지정된 경우 데이터를 왼쪽에 맞춰 출력한다. => 전체 자리수가 지정되지 않으면 데이터가 오른쪽으로 맞춰 출력된다.\n",
    "# 0 : 전체 자리수가 지정된 경우 숫자 데이터일 겨우 왼쪽의 남는 자리에 \"0\"을 채워 출력한다. => 문자 데이터에서는 무시한다.\n",
    "# n : 전체 자리수\n",
    "# .m : 실수를 출력할 경우 지정하는 소수점 아래 자리수"
   ]
  },
  {
   "cell_type": "code",
   "execution_count": 6,
   "metadata": {},
   "outputs": [
    {
     "name": "stdout",
     "output_type": "stream",
     "text": [
      "100\n",
      "1\n",
      "10000\n"
     ]
    }
   ],
   "source": [
    "print(100)\n",
    "print(1)\n",
    "print(10000)"
   ]
  },
  {
   "cell_type": "code",
   "execution_count": 7,
   "metadata": {},
   "outputs": [
    {
     "name": "stdout",
     "output_type": "stream",
     "text": [
      "  100\n",
      "    1\n",
      "1    \n",
      "00001\n",
      "10000\n"
     ]
    }
   ],
   "source": [
    "# print(\"출력 서식\" % 출력할 데이터)\n",
    "print(\"%5d\" % 100)\n",
    "print(\"%5d\" % 1)\n",
    "print(\"%-5d\" % 1)\n",
    "print(\"%05d\" % 1)\n",
    "print(\"%5d\" % 10000)"
   ]
  },
  {
   "cell_type": "code",
   "execution_count": 8,
   "metadata": {},
   "outputs": [
    {
     "name": "stdout",
     "output_type": "stream",
     "text": [
      "abc\n",
      "a\n",
      "abcde\n"
     ]
    }
   ],
   "source": [
    "print(\"abc\")\n",
    "print(\"a\")\n",
    "print(\"abcde\")"
   ]
  },
  {
   "cell_type": "code",
   "execution_count": 9,
   "metadata": {},
   "outputs": [
    {
     "name": "stdout",
     "output_type": "stream",
     "text": [
      "  abc\n",
      "    a\n",
      "a    \n",
      "    a\n",
      "abcde\n"
     ]
    }
   ],
   "source": [
    "print(\"%5s\" % \"abc\")\n",
    "print(\"%5s\" % \"a\")\n",
    "print(\"%-5s\" % \"a\")\n",
    "print(\"%05s\" % \"a\") # 파이썬은 문자열 서식에서 \"0\"이 무시된다.\n",
    "print(\"%5s\" % \"abcde\")"
   ]
  },
  {
   "cell_type": "code",
   "execution_count": 10,
   "metadata": {},
   "outputs": [
    {
     "name": "stdout",
     "output_type": "stream",
     "text": [
      "123.45\n",
      "123.40\n",
      "123.46\n",
      "  60\n",
      "  60\n"
     ]
    }
   ],
   "source": [
    "print(\"%6.2f\" % 123.45)\n",
    "print(\"%6.2f\" % 123.4)   # 남는 자리에는 \"0\"이 채워져서 출력된다.\n",
    "print(\"%6.2f\" % 123.456) # 소수점 아래 숫자는 잘리는 자리에서 반올림시켜 출력한다. => 원래 데이터는 변경되지 않는다.\n",
    "print(\"%4.0f\" % 59.5)\n",
    "print(\"%4.0f\" % 60.4)"
   ]
  },
  {
   "cell_type": "code",
   "execution_count": 11,
   "metadata": {},
   "outputs": [
    {
     "name": "stdout",
     "output_type": "stream",
     "text": [
      "5 + 3 = 8\n",
      "5 - 3 = 2\n",
      "5 * 3 = 15\n",
      "5 / 3 = 1\n",
      "5 / 3 = 1.666667\n",
      "5 // 3 = 1\n",
      "5 // 3 = 1.000000\n",
      "5 % 3 = 2\n",
      "2의 10승 = 1024\n",
      "루트 2 = 1.414214\n"
     ]
    }
   ],
   "source": [
    "# 출력 서식에 맞춰 출력할 데이터가 2건 이상이라면 출력할 데이터를 반드시 ()로 묶어서 출력해야 한다.\n",
    "print(\"%d + %d = %d\" % (5, 3, 5 + 3)) # 덧셈\n",
    "print(\"%d - %d = %d\" % (5, 3, 5 - 3)) # 뺄셈\n",
    "print(\"%d * %d = %d\" % (5, 3, 5 * 3)) # 곱셈\n",
    "# 파이썬은 \"/\" 연산자로 나눗셈을 하면 소수점 아래까지 계산된다.\n",
    "print(\"%d / %d = %d\" % (5, 3, 5 / 3)) # 나눗셈 => 나눗셈 결과를 %f를 사용해서 정수로 출력하라 했으므로 정수만 출력된다.\n",
    "print(\"%d / %d = %f\" % (5, 3, 5 / 3))\n",
    "# 파이썬은 \"//\" 연산자로 나눗셈을 하면 몫만 계산된다.\n",
    "print(\"%d // %d = %d\" % (5, 3, 5 // 3)) # 나눗셈\n",
    "print(\"%d // %d = %f\" % (5, 3, 5 // 3)) # 나눗셈 결과 계산된 몫을 실수로 출력하라 했으므로 실수로 출력된다.\n",
    "# 출력 서식을 지정할 때 \"%\" 자체를 출력하고 싶다면 연속해서 2개를 써야한다.\n",
    "print(\"%d %% %d = %d\" % (5, 3, 5 % 3)) # 나머지\n",
    "print(\"%d의 %d승 = %d\" % (2, 10, 2 ** 10)) # 거듭제곱\n",
    "print(\"루트 %d = %f\" % (2, 2 ** 0.5))"
   ]
  },
  {
   "cell_type": "code",
   "execution_count": 12,
   "metadata": {},
   "outputs": [],
   "source": [
    "# 산술 연산자 우선순위 : () => 거듭제곱 => *, /, //, % => +, -"
   ]
  },
  {
   "cell_type": "code",
   "execution_count": 20,
   "metadata": {},
   "outputs": [
    {
     "name": "stdout",
     "output_type": "stream",
     "text": [
      "5 + 3 = 8\n",
      "5 + 3 = 8\n",
      "5 - 3 = 2\n",
      "5 * 3 = 15\n",
      "5 / 3 = 1.6666666666666667\n",
      "5 // 3 = 1\n",
      "5 % 3 = 2\n",
      "2의 10승 = 1024\n",
      "루트 2 = 1.4142135623730951\n"
     ]
    }
   ],
   "source": [
    "# 문자열의 출력 서식을 지정하는 format() 메소드와 {}를 사용해서 출력하기\n",
    "print(\"%d + %d = %d\" % (5, 3, 5 + 3))\n",
    "# \"%\"를 이용해서 서식을 지정할 때는 %d, %f, %s에 데이터가 대입되었지만 {}를 사용하면 {}에 데이터가 대입된다.\n",
    "print(\"{} + {} = {}\".format(5, 3, 5 + 3))\n",
    "print(\"{} - {} = {}\".format(5, 3, 5 - 3))\n",
    "print(\"{} * {} = {}\".format(5, 3, 5 * 3))\n",
    "print(\"{} / {} = {}\".format(5, 3, 5 / 3))\n",
    "print(\"{} // {} = {}\".format(5, 3, 5 // 3))\n",
    "print(\"{} % {} = {}\".format(5, 3, 5 % 3))\n",
    "print(\"{}의 {}승 = {}\".format(2, 10, 2 ** 10))\n",
    "print(\"루트 {} = {}\".format(2, 2 ** 0.5))"
   ]
  },
  {
   "cell_type": "code",
   "execution_count": 23,
   "metadata": {},
   "outputs": [
    {
     "name": "stdout",
     "output_type": "stream",
     "text": [
      "홍길동 바보\n",
      "홍길동\n"
     ]
    }
   ],
   "source": [
    "# format() 메소드와 출력할 데이터의 인덱스 번호를 사용해서 출력하기 => 인덱스는 0부터 시작된다.\n",
    "print(\"{} {}\".format(\"홍길동\", \"바보\"))\n",
    "# 인덱스를 지정하지 않은 상태에서 {}와 출력할 데이터의 개수가 다르면 에러가 발생된다. => {}가 남으면 에러가 발생된다.\n",
    "# print(\"{} {} {}\".format(\"홍길동\", \"바보\")) # 에러\n",
    "print(\"{}\".format(\"홍길동\", \"바보\")) # 남는 데이터는 무시된다."
   ]
  },
  {
   "cell_type": "code",
   "execution_count": 29,
   "metadata": {},
   "outputs": [
    {
     "name": "stdout",
     "output_type": "stream",
     "text": [
      "홍길동 바보\n",
      "바보 홍길동\n",
      "홍길동 바보 홍길동\n"
     ]
    }
   ],
   "source": [
    "print(\"{0} {1}\".format(\"홍길동\", \"바보\"))\n",
    "print(\"{1} {0}\".format(\"홍길동\", \"바보\"))\n",
    "# 인덱스가 지정되면 출력할 데이터와 {}의 개수가 다르더라도 인덱스의 범위만 벗어나지 않으면 정상적으로 출력된다.\n",
    "print(\"{0} {1} {0}\".format(\"홍길동\", \"바보\"))\n",
    "# {} 안에 지정한 인덱스가 범위를 벗어나게 지정하면 에러가 발생된다.\n",
    "# print(\"{0} {1} {2}\".format(\"홍길동\", \"바보\")) # 에러\n",
    "# 인덱스를 부분적으로 지정하면 에러가 발생된다.\n",
    "# print(\"{0} {}\".format(\"홍길동\", \"바보\")) # 에러"
   ]
  },
  {
   "cell_type": "code",
   "execution_count": 34,
   "metadata": {},
   "outputs": [
    {
     "name": "stdout",
     "output_type": "stream",
     "text": [
      "홍길동님은 20살 입니다.\n",
      "홍길동님은 20살 입니다.\n",
      "홍길동님은 20살 입니다.\n",
      "홍길동       님은 020살 입니다.\n"
     ]
    }
   ],
   "source": [
    "# 출력 서식과 format() 메소드의 출력할 데이터 인덱스를 사용해 출력하기\n",
    "print(\"%s님은 %d살 입니다.\" % (\"홍길동\", 20))\n",
    "print(\"{}님은 {}살 입니다.\".format(\"홍길동\", 20))\n",
    "print(\"{0}님은 {1}살 입니다.\".format(\"홍길동\", 20))\n",
    "# {인덱스:출력서식} => 출력 서식 앞에 \"%\"는 붙이지 않는다.\n",
    "print(\"{0:10s}님은 {1:03d}살 입니다.\".format(\"홍길동\", 20))"
   ]
  },
  {
   "cell_type": "code",
   "execution_count": 37,
   "metadata": {},
   "outputs": [
    {
     "name": "stdout",
     "output_type": "stream",
     "text": [
      "홍길동       님은 020살 입니다.\n",
      "       홍길동님은 020살 입니다.\n",
      "   홍길동    님은 020살 입니다.\n"
     ]
    }
   ],
   "source": [
    "# \"<\", \">\", \"^\"를 사용해서 문자열 출력시 정렬 방법을 지정할 수 있다. => 정렬 방법을 지정하지 않으면 \"<\"가 기본값으로 사용된다.\n",
    "print(\"{0:<10s}님은 {1:03d}살 입니다.\".format(\"홍길동\", 20))\n",
    "print(\"{0:>10s}님은 {1:03d}살 입니다.\".format(\"홍길동\", 20))\n",
    "print(\"{0:^10s}님은 {1:03d}살 입니다.\".format(\"홍길동\", 20))"
   ]
  },
  {
   "cell_type": "code",
   "execution_count": 38,
   "metadata": {},
   "outputs": [
    {
     "name": "stdout",
     "output_type": "stream",
     "text": [
      "홍길동_______님은 020살 입니다.\n",
      "+++++++홍길동님은 020살 입니다.\n",
      "***홍길동****님은 020살 입니다.\n"
     ]
    }
   ],
   "source": [
    "# \"<\", \">\", \"^\"를 사용해서 문자열 출력시 남는 공백에 채워지는 채움 문자를 지정할 수 있다.\n",
    "print(\"{0:_<10s}님은 {1:03d}살 입니다.\".format(\"홍길동\", 20))\n",
    "print(\"{0:+>10s}님은 {1:03d}살 입니다.\".format(\"홍길동\", 20))\n",
    "print(\"{0:*^10s}님은 {1:03d}살 입니다.\".format(\"홍길동\", 20))"
   ]
  },
  {
   "cell_type": "code",
   "execution_count": 39,
   "metadata": {},
   "outputs": [
    {
     "name": "stdout",
     "output_type": "stream",
     "text": [
      "임꺽정님은 35살 입니다.\n"
     ]
    }
   ],
   "source": [
    "# f접두어를 사용한 서식 지정\n",
    "name = \"임꺽정\"\n",
    "age = 35\n",
    "print(f\"{name}님은 {age}살 입니다.\")"
   ]
  },
  {
   "cell_type": "code",
   "execution_count": null,
   "metadata": {},
   "outputs": [],
   "source": []
  },
  {
   "cell_type": "code",
   "execution_count": null,
   "metadata": {},
   "outputs": [],
   "source": []
  },
  {
   "cell_type": "code",
   "execution_count": null,
   "metadata": {},
   "outputs": [],
   "source": []
  }
 ],
 "metadata": {
  "kernelspec": {
   "display_name": "Python 3",
   "language": "python",
   "name": "python3"
  },
  "language_info": {
   "codemirror_mode": {
    "name": "ipython",
    "version": 3
   },
   "file_extension": ".py",
   "mimetype": "text/x-python",
   "name": "python",
   "nbconvert_exporter": "python",
   "pygments_lexer": "ipython3",
   "version": "3.7.4"
  }
 },
 "nbformat": 4,
 "nbformat_minor": 2
}

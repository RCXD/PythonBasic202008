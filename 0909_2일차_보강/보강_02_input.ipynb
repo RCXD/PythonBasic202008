{
 "cells": [
  {
   "cell_type": "code",
   "execution_count": null,
   "metadata": {},
   "outputs": [],
   "source": [
    "# 변수(variable)는 처리할 데이터(상수, constant)를 저장하는 기억장소를 말한다.\n",
    "# 변수명 작성 방법\n",
    "# 영문자(대소문자를 구분한다.), 숫자, 특수문자(_)만 사용할 수 있으며 반드시 문자로 시작해야 하고 예약어는 사용할 수 없다."
   ]
  },
  {
   "cell_type": "code",
   "execution_count": null,
   "metadata": {},
   "outputs": [],
   "source": [
    "# 파이썬은 c/c++이나 java와 달리 변수 선언시 변수의 자료형을 지정하지 않으며 저장되는 데이터 타입에 따라서 자동으로 변수의 자료형이 결정된다.\n",
    "# \"=\"은 같다라는 의미로 사용되지 않고 \"=\" 오른쪽의 데이터를 \"=\" 왼쪽의 기억장소에 저장하라는 의미로 사용된다. => 대입문, 배정문\n",
    "# \"==\"와 같이 2개를 연속해서 사용해야 같다로 인식된다.\n",
    "a = \"홍길동\"\n",
    "print(type(a)) # type() 함수로 기억장소의 자료형을 알 수 있다.\n",
    "a = 100\n",
    "print(type(a))\n",
    "a = 3.14\n",
    "print(type(a))\n",
    "# True => 참, False => 거짓, 반드시 첫 문자만 대문자로 써야한다.\n",
    "a = True\n",
    "print(type(a))"
   ]
  },
  {
   "cell_type": "code",
   "execution_count": null,
   "metadata": {},
   "outputs": [],
   "source": [
    "# 더 이상 필요없는 변수는 del 명령으로 삭제할 수 있다.\n",
    "del a\n",
    "print(a)"
   ]
  },
  {
   "cell_type": "code",
   "execution_count": 3,
   "metadata": {},
   "outputs": [
    {
     "name": "stdout",
     "output_type": "stream",
     "text": [
      "이름을 입력하세요 : 3.14\n",
      "3.14님 안녕하세요\n",
      "3.14님 안녕하세요\n",
      "<class 'str'>\n"
     ]
    }
   ],
   "source": [
    "# input() 함수로 키보드로 입력하는 데이터를 받을 수 있다 => 무조건 문자열 형태로 입력받는다.\n",
    "print(\"이름을 입력하세요 : \", end = \"\")\n",
    "name = input()\n",
    "print(\"%s님 안녕하세요\" % name)\n",
    "print(\"{}님 안녕하세요\".format(name))\n",
    "print(type(name))"
   ]
  },
  {
   "cell_type": "code",
   "execution_count": 4,
   "metadata": {},
   "outputs": [
    {
     "name": "stdout",
     "output_type": "stream",
     "text": [
      "이름을 입력하세요 : 홍길동\n",
      "홍길동님 안녕하세요\n"
     ]
    }
   ],
   "source": [
    "# input() 함수의 인수로 메시지를 출력할 수 있다.\n",
    "name = input(\"이름을 입력하세요 : \")\n",
    "print(\"{}님 안녕하세요\".format(name))"
   ]
  },
  {
   "cell_type": "code",
   "execution_count": 17,
   "metadata": {},
   "outputs": [
    {
     "name": "stdout",
     "output_type": "stream",
     "text": [
      "나이를 입력하세요 : 20\n",
      "<class 'int'>\n",
      "홍길동님은 20살 입니다.\n",
      "홍길동님은 20살 입니다.\n",
      "홍길동님은 내년에 21살 입니다.\n"
     ]
    }
   ],
   "source": [
    "# input() 함수는 무조건 문자열 형태로 데이터를 입력받기 때문에 정수나 실수 데이터를 입력받으려면 입력받은 데이터를 int() 함수나 float() 함수를 사용해서 \n",
    "# 숫자로 변환시켜야 한다.\n",
    "age = int(input(\"나이를 입력하세요 : \"))\n",
    "print(type(age))\n",
    "print(\"%s님은 %d살 입니다.\" % (name, age))\n",
    "print(\"{}님은 {}살 입니다.\".format(name, age))\n",
    "# \"+\" 연산자는 문자열과 문자열, 숫자와 숫자의 연산만 가능하다. => 문자열과 숫자를 연산하면 에러가 발생된다.\n",
    "# 문자열과 문자열에 \"+\" 연산자를 사용하면 두 문자열을 하나로 붙여주는 기능이 실행되고 숫자와 숫자에 \"+\" 연산자를 사용하면 덧셈이 실행된다.\n",
    "print(\"{}님은 내년에 {}살 입니다.\".format(name, age + 1))"
   ]
  },
  {
   "cell_type": "code",
   "execution_count": 22,
   "metadata": {},
   "outputs": [
    {
     "name": "stdout",
     "output_type": "stream",
     "text": [
      "Hello Python\n",
      "['Hello', 'Python', 'Good']\n"
     ]
    }
   ],
   "source": [
    "# split() 메소드를 사용하면 문자열과 문자열을 지정한 구분자를 경계로해서 분리할 수 있다. => 구분자를 생략하면 공백이 기본 구분자로 사용된다.\n",
    "print(\"Hello Python\")\n",
    "print(\"Hello Python Good\".split())"
   ]
  },
  {
   "cell_type": "code",
   "execution_count": 27,
   "metadata": {},
   "outputs": [
    {
     "name": "stdout",
     "output_type": "stream",
     "text": [
      "이름과 나이를 입력하세요 : 일지매 19\n",
      "일지매님은 19살 입니다.\n",
      "일지매님은 내년에 20살 입니다.\n"
     ]
    }
   ],
   "source": [
    "name, age = input(\"이름과 나이를 입력하세요 : \").split()\n",
    "print(\"{}님은 {}살 입니다.\".format(name, age))\n",
    "print(\"{}님은 내년에 {}살 입니다.\".format(name, int(age) + 1))"
   ]
  },
  {
   "cell_type": "code",
   "execution_count": 32,
   "metadata": {},
   "outputs": [
    {
     "name": "stdout",
     "output_type": "stream",
     "text": [
      "세 과목 점수를 입력하세요 : 100 100 100\n",
      "총점 : 300\n"
     ]
    }
   ],
   "source": [
    "python, java, jsp = input(\"세 과목 점수를 입력하세요 : \").split()\n",
    "print(\"총점 : {}\".format(int(python) + int(java) + int(jsp)))"
   ]
  },
  {
   "cell_type": "code",
   "execution_count": 33,
   "metadata": {},
   "outputs": [
    {
     "name": "stdout",
     "output_type": "stream",
     "text": [
      "세 과목 점수를 입력하세요 : 100 100 99\n",
      "총점 : 299\n"
     ]
    }
   ],
   "source": [
    "# map() 함수를 사용하면 입력받은 데이터를 split() 메소드로 구분하고 일괄적으로 숫자로 변환시킬 수 있다.\n",
    "python, java, jsp = map(int, input(\"세 과목 점수를 입력하세요 : \").split())\n",
    "print(\"총점 : {}\".format(python + java + jsp))"
   ]
  },
  {
   "cell_type": "code",
   "execution_count": null,
   "metadata": {},
   "outputs": [],
   "source": []
  },
  {
   "cell_type": "code",
   "execution_count": null,
   "metadata": {},
   "outputs": [],
   "source": []
  },
  {
   "cell_type": "code",
   "execution_count": null,
   "metadata": {},
   "outputs": [],
   "source": []
  }
 ],
 "metadata": {
  "kernelspec": {
   "display_name": "Python 3",
   "language": "python",
   "name": "python3"
  },
  "language_info": {
   "codemirror_mode": {
    "name": "ipython",
    "version": 3
   },
   "file_extension": ".py",
   "mimetype": "text/x-python",
   "name": "python",
   "nbconvert_exporter": "python",
   "pygments_lexer": "ipython3",
   "version": "3.7.4"
  }
 },
 "nbformat": 4,
 "nbformat_minor": 2
}

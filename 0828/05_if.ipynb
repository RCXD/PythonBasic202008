{
 "cells": [
  {
   "cell_type": "markdown",
   "metadata": {},
   "source": [
    "if 명령의 형식  \n",
    "if 조건식:  \n",
    "&nbsp;&nbsp;&nbsp;&nbsp;조건식이 참일 경우 실행할 문장  \n",
    "&nbsp;&nbsp;&nbsp;&nbsp;...  \n",
    "else: => 조건식을 만족하지 않을 때 아무런 일도 할 필요가 없다면 else 이하를 생략할 수 있다.  \n",
    "&nbsp;&nbsp;&nbsp;&nbsp;조건식이 거짓일 경우 실행할 문장  \n",
    "&nbsp;&nbsp;&nbsp;&nbsp;..."
   ]
  },
  {
   "cell_type": "code",
   "execution_count": 1,
   "metadata": {},
   "outputs": [],
   "source": [
    "# 관계(비교) 연산자 => 연산 결과는 무조건 True 아니면 False 이다.\n",
    "# <  : 작다, 미만\n",
    "# <= : 작거나 같다, 이하\n",
    "# >  : 크다, 초과\n",
    "# >= : 크거나 같다, 이상\n",
    "# == : 같다\n",
    "# != : 같지 않다"
   ]
  },
  {
   "cell_type": "code",
   "execution_count": null,
   "metadata": {},
   "outputs": [],
   "source": [
    "# 논리 연산자 => 연산 결과는 무조건 True 아니면 False 이다.\n",
    "# and : 논리곱, 두 조건이 모두 참일 경우에만 참, ~이고, ~이면서, ~중에서\n",
    "# or  : 논리합, 두 조건 중에서 한 개 이상 참일 경우에 참, ~또는, ~이거나\n",
    "# not : 논리 부정, 참은 거짓으로 거짓은 참으로 변환한다."
   ]
  },
  {
   "cell_type": "code",
   "execution_count": null,
   "metadata": {},
   "outputs": [],
   "source": [
    "# 연산자 우선 순위\n",
    "# 단항 연산자 => 이항 연산자 => 삼항(조건) 연산자 => 대입 연산자\n",
    "# 이항 연산자 : ** => *, /, //, % => +, - => 관계 연산자 => 논리 연산자"
   ]
  },
  {
   "cell_type": "code",
   "execution_count": 14,
   "metadata": {},
   "outputs": [
    {
     "name": "stdout",
     "output_type": "stream",
     "text": [
      "나이를 입력하세요 : 19\n",
      "성인입니다. 어서오세요~~~~~\n"
     ]
    }
   ],
   "source": [
    "# 나이를 입력받아 성인이가 미성년자인가 판단한다.\n",
    "age = int(input(\"나이를 입력하세요 : \"))\n",
    "if age >= 19:\n",
    "    print(\"성인입니다. 어서오세요~~~~~\")\n",
    "else:\n",
    "    print(\"미성년자입니다. 어서 집으로 가세요~~~~~\")"
   ]
  },
  {
   "cell_type": "code",
   "execution_count": 20,
   "metadata": {},
   "outputs": [
    {
     "name": "stdout",
     "output_type": "stream",
     "text": [
      "주민등록번호 13자리를 '-'없이 입력하세요 : 8304223185600\n",
      "남자\n",
      "남자\n"
     ]
    }
   ],
   "source": [
    "# 주민등록번호를 입력받아 성별을 판단한다.\n",
    "juminNumber = input(\"주민등록번호 13자리를 '-'없이 입력하세요 : \")\n",
    "# print(juminNumber[6])\n",
    "\n",
    "# 문자로 비교\n",
    "if juminNumber[6] == \"1\" or juminNumber[6] == \"3\":\n",
    "    print(\"남자\")\n",
    "else:\n",
    "    print(\"여자\")\n",
    "    \n",
    "# 숫자로 비교\n",
    "if int(juminNumber[6]) == 1 or int(juminNumber[6]) == 3:\n",
    "    print(\"남자\")\n",
    "else:\n",
    "    print(\"여자\")"
   ]
  },
  {
   "cell_type": "code",
   "execution_count": null,
   "metadata": {},
   "outputs": [],
   "source": []
  },
  {
   "cell_type": "code",
   "execution_count": null,
   "metadata": {},
   "outputs": [],
   "source": []
  },
  {
   "cell_type": "code",
   "execution_count": null,
   "metadata": {},
   "outputs": [],
   "source": []
  },
  {
   "cell_type": "code",
   "execution_count": null,
   "metadata": {},
   "outputs": [],
   "source": []
  },
  {
   "cell_type": "code",
   "execution_count": null,
   "metadata": {},
   "outputs": [],
   "source": []
  },
  {
   "cell_type": "code",
   "execution_count": null,
   "metadata": {},
   "outputs": [],
   "source": []
  },
  {
   "cell_type": "code",
   "execution_count": null,
   "metadata": {},
   "outputs": [],
   "source": []
  }
 ],
 "metadata": {
  "kernelspec": {
   "display_name": "Python 3",
   "language": "python",
   "name": "python3"
  },
  "language_info": {
   "codemirror_mode": {
    "name": "ipython",
    "version": 3
   },
   "file_extension": ".py",
   "mimetype": "text/x-python",
   "name": "python",
   "nbconvert_exporter": "python",
   "pygments_lexer": "ipython3",
   "version": "3.7.4"
  }
 },
 "nbformat": 4,
 "nbformat_minor": 2
}

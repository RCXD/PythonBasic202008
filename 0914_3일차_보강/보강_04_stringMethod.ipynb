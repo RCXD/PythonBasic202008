{
 "cells": [
  {
   "cell_type": "code",
   "execution_count": 1,
   "metadata": {},
   "outputs": [
    {
     "name": "stdout",
     "output_type": "stream",
     "text": [
      "33\n"
     ]
    }
   ],
   "source": [
    "string = 'We are the champions, My friends!'\n",
    "# len() 함수는 문자열을 구성하는 문자의 개수를 얻어온다.\n",
    "print(len(string))"
   ]
  },
  {
   "cell_type": "code",
   "execution_count": 4,
   "metadata": {},
   "outputs": [
    {
     "name": "stdout",
     "output_type": "stream",
     "text": [
      "4\n",
      "1\n",
      "0\n"
     ]
    }
   ],
   "source": [
    "string = 'We are the champions, My friends!'\n",
    "# count() 메소드는 인수로 지정된 문자열의 출연 횟수를 얻어온다.\n",
    "# count() 메소드는 문자열 내부에 인수로 지정된 특정 문자열이 포함되어있나 알아낼 수 있다. => 1 이상이면 포함, 0은 불포함\n",
    "print(string.count('e'))\n",
    "print(string.count('We'))\n",
    "print(string.count('we'))"
   ]
  },
  {
   "cell_type": "code",
   "execution_count": 8,
   "metadata": {},
   "outputs": [
    {
     "name": "stdout",
     "output_type": "stream",
     "text": [
      "1\n",
      "0\n",
      "-1\n"
     ]
    }
   ],
   "source": [
    "string = 'We are the champions, My friends!'\n",
    "# find() 메소드는 인수로 지정된 문자열이 최초로 나타는 위치의 인덱스를 얻어올 수 있다.\n",
    "# find() 메소드는 문자열 내부에 인수로 지정된 특정 문자열이 포함되어있나 알아낼 수 있다. => 0 이상이면 포함, -1은 불포함\n",
    "print(string.find('e'))\n",
    "print(string.find('We'))\n",
    "print(string.find('we'))"
   ]
  },
  {
   "cell_type": "code",
   "execution_count": 10,
   "metadata": {},
   "outputs": [
    {
     "name": "stdout",
     "output_type": "stream",
     "text": [
      "1\n",
      "0\n"
     ]
    },
    {
     "ename": "ValueError",
     "evalue": "substring not found",
     "output_type": "error",
     "traceback": [
      "\u001b[1;31m---------------------------------------------------------------------------\u001b[0m",
      "\u001b[1;31mValueError\u001b[0m                                Traceback (most recent call last)",
      "\u001b[1;32m<ipython-input-10-6f245accc39f>\u001b[0m in \u001b[0;36m<module>\u001b[1;34m\u001b[0m\n\u001b[0;32m      4\u001b[0m \u001b[0mprint\u001b[0m\u001b[1;33m(\u001b[0m\u001b[0mstring\u001b[0m\u001b[1;33m.\u001b[0m\u001b[0mindex\u001b[0m\u001b[1;33m(\u001b[0m\u001b[1;34m'e'\u001b[0m\u001b[1;33m)\u001b[0m\u001b[1;33m)\u001b[0m\u001b[1;33m\u001b[0m\u001b[1;33m\u001b[0m\u001b[0m\n\u001b[0;32m      5\u001b[0m \u001b[0mprint\u001b[0m\u001b[1;33m(\u001b[0m\u001b[0mstring\u001b[0m\u001b[1;33m.\u001b[0m\u001b[0mindex\u001b[0m\u001b[1;33m(\u001b[0m\u001b[1;34m'We'\u001b[0m\u001b[1;33m)\u001b[0m\u001b[1;33m)\u001b[0m\u001b[1;33m\u001b[0m\u001b[1;33m\u001b[0m\u001b[0m\n\u001b[1;32m----> 6\u001b[1;33m \u001b[0mprint\u001b[0m\u001b[1;33m(\u001b[0m\u001b[0mstring\u001b[0m\u001b[1;33m.\u001b[0m\u001b[0mindex\u001b[0m\u001b[1;33m(\u001b[0m\u001b[1;34m'we'\u001b[0m\u001b[1;33m)\u001b[0m\u001b[1;33m)\u001b[0m \u001b[1;31m# 인수로 지정한 문자열이 없으면 substring not found 에러가 발생된다.\u001b[0m\u001b[1;33m\u001b[0m\u001b[1;33m\u001b[0m\u001b[0m\n\u001b[0m",
      "\u001b[1;31mValueError\u001b[0m: substring not found"
     ]
    }
   ],
   "source": [
    "string = 'We are the champions, My friends!'\n",
    "# index() 메소드는 인수로 지정된 문자열이 최초로 나타는 위치의 인덱스를 얻어올 수 있다.\n",
    "# index() 메소드는 문자열 내부에 인수로 지정된 특정 문자열이 포함되어있나 알아낼 수 있다. => 0 이상이면 포함, 찾는 문자열이 없으면 에러가 발생된다.\n",
    "print(string.index('e'))\n",
    "print(string.index('We'))\n",
    "print(string.index('we')) # 인수로 지정한 문자열이 없으면 substring not found 에러가 발생된다."
   ]
  },
  {
   "cell_type": "code",
   "execution_count": 14,
   "metadata": {},
   "outputs": [
    {
     "name": "stdout",
     "output_type": "stream",
     "text": [
      "K/o/r/e/a/I/T\n",
      "K^^;o^^;r^^;e^^;a^^;I^^;T\n",
      "K~(^^~)o~(^^~)r~(^^~)e~(^^~)a~(^^~)I~(^^~)T\n"
     ]
    }
   ],
   "source": [
    "string =\"KoreaIT\"\n",
    "# join() 메소드는 인수로 지정한 문자열에 특정 문자열을 삽입된다.\n",
    "print('/'.join(string))\n",
    "print('^^;'.join(string))\n",
    "print('~(^^~)'.join(string))"
   ]
  },
  {
   "cell_type": "code",
   "execution_count": 16,
   "metadata": {},
   "outputs": [
    {
     "name": "stdout",
     "output_type": "stream",
     "text": [
      "KOREAIT\n",
      "koreait\n"
     ]
    }
   ],
   "source": [
    "string =\"KoreaIT\"\n",
    "# upper() 메소드는 인수로 지정된 문자열을 무조건 대문자로 변환하고 lower() 메소드는 인수로 지정된 문자열을 무조건 소문자로 변환한다.\n",
    "print(string.upper())\n",
    "print(string.lower())"
   ]
  },
  {
   "cell_type": "code",
   "execution_count": 23,
   "metadata": {},
   "outputs": [
    {
     "name": "stdout",
     "output_type": "stream",
     "text": [
      "18\n",
      "      python      \n",
      "6\n",
      "python\n",
      "12\n",
      "python      \n",
      "12\n",
      "      python\n"
     ]
    }
   ],
   "source": [
    "string = \"      python      \"\n",
    "print(len(string))\n",
    "print(string)\n",
    "# strip() 메소드는 문자열 앞, 뒤의 불필요한 공백을 제거한다.\n",
    "print(len(string.strip()))\n",
    "print(string.strip())\n",
    "# lstrip() 메소드는 문자열 왼쪽(앞)의 불필요한 공백을 제거한다.\n",
    "print(len(string.lstrip()))\n",
    "print(string.lstrip())\n",
    "# rstrip() 메소드는 문자열 오른쪽(뒤)의 불필요한 공백을 제거한다.\n",
    "print(len(string.rstrip()))\n",
    "print(string.rstrip())"
   ]
  },
  {
   "cell_type": "code",
   "execution_count": 25,
   "metadata": {},
   "outputs": [
    {
     "name": "stdout",
     "output_type": "stream",
     "text": [
      "We are the champions, Your friends!\n",
      "W^^; ar^^; th^^; champions, My fri^^;nds!\n"
     ]
    }
   ],
   "source": [
    "string = 'We are the champions, My friends!'\n",
    "# replace(a, b) 메소드는 문자열의 모든 a를 b로 치환한다.\n",
    "print(string.replace('My', 'Your'))\n",
    "print(string.replace('e', '^^;'))"
   ]
  },
  {
   "cell_type": "code",
   "execution_count": 28,
   "metadata": {},
   "outputs": [
    {
     "name": "stdout",
     "output_type": "stream",
     "text": [
      "['We', 'are', 'the', 'champions,', 'My', 'friends!']\n",
      "<class 'list'>\n",
      "['We are the champions', ' My friends!']\n"
     ]
    }
   ],
   "source": [
    "string = 'We are the champions, My friends!'\n",
    "# split() 메소드는 인수로 지정된 구분자를 이용해 문자열을 나눈다. => split() 메소드의 실행 결과는 list 타입으로 리턴된다.\n",
    "print(string.split()) # 구분자를 생략하면 공백이 기본 구분자로 사용된다.\n",
    "print(type(string.split()))\n",
    "print(string.split(','))"
   ]
  },
  {
   "cell_type": "code",
   "execution_count": 34,
   "metadata": {},
   "outputs": [
    {
     "name": "stdout",
     "output_type": "stream",
     "text": [
      "python\n",
      "example\n",
      "kiped\n"
     ]
    }
   ],
   "source": [
    "# strip() 메소드의 인수를 생략하면 기본값으로 문자열 양쪽 끝의 공백을 제거한다.\n",
    "print(\"      python      \".strip())\n",
    "# strip() 메소드가 꼭 공백만 제거하는 것은 아니다.\n",
    "# 인수로 지정된 문자가 더 이상 문자열의 양쪽 끝에 나타나지 않을 때 까지 인수로 지정된 문자를 제거한다. => 인수를 입력한 순서와 제거하는 순서는 상관없다.\n",
    "print('www.example.com'.strip('cmwo.'))\n",
    "print('www.wikipedia.com'.strip('w.aicom'))"
   ]
  },
  {
   "cell_type": "code",
   "execution_count": null,
   "metadata": {},
   "outputs": [],
   "source": [
    "# 파이썬의 공백 처리 기법"
   ]
  },
  {
   "cell_type": "code",
   "execution_count": 37,
   "metadata": {},
   "outputs": [
    {
     "name": "stdout",
     "output_type": "stream",
     "text": [
      "          Hello                   World               \n",
      "Hello                   World\n"
     ]
    }
   ],
   "source": [
    "string = \"          Hello                   World               \"\n",
    "print(string)\n",
    "print(string.strip())"
   ]
  },
  {
   "cell_type": "code",
   "execution_count": 38,
   "metadata": {},
   "outputs": [
    {
     "name": "stdout",
     "output_type": "stream",
     "text": [
      "HelloWorld\n"
     ]
    }
   ],
   "source": [
    "# replace() 메소드를 사용한 모든 공백 제거\n",
    "print(string.replace(' ', ''))"
   ]
  },
  {
   "cell_type": "code",
   "execution_count": 40,
   "metadata": {},
   "outputs": [
    {
     "name": "stdout",
     "output_type": "stream",
     "text": [
      "['Hello', 'World']\n",
      "Hello World\n"
     ]
    }
   ],
   "source": [
    "# split(), join() 메소드를 사용해서 문자열 앞, 뒤의 불필요한 모든 빈 칸을 제거하고 문자열 사이에 2칸 이상 띄어쓰기를 한 곳은 1칸만 띄어쓰기를 한다.\n",
    "print(string.split())\n",
    "print(' '.join(string.split()))"
   ]
  },
  {
   "cell_type": "code",
   "execution_count": null,
   "metadata": {},
   "outputs": [],
   "source": []
  },
  {
   "cell_type": "code",
   "execution_count": null,
   "metadata": {},
   "outputs": [],
   "source": []
  },
  {
   "cell_type": "code",
   "execution_count": null,
   "metadata": {},
   "outputs": [],
   "source": []
  }
 ],
 "metadata": {
  "kernelspec": {
   "display_name": "Python 3",
   "language": "python",
   "name": "python3"
  },
  "language_info": {
   "codemirror_mode": {
    "name": "ipython",
    "version": 3
   },
   "file_extension": ".py",
   "mimetype": "text/x-python",
   "name": "python",
   "nbconvert_exporter": "python",
   "pygments_lexer": "ipython3",
   "version": "3.7.4"
  }
 },
 "nbformat": 4,
 "nbformat_minor": 2
}

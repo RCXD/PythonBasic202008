{
 "cells": [
  {
   "cell_type": "markdown",
   "metadata": {},
   "source": [
    "함수의 구조  \n",
    "def 함수이름([인수, ...]):  \n",
    "&nbsp;&nbsp;&nbsp;&nbsp;함수가 실행할 문장  \n",
    "&nbsp;&nbsp;&nbsp;&nbsp;...  \n",
    "&nbsp;&nbsp;&nbsp;&nbsp;[return 함수의 실행 결과 값]\n",
    "\n",
    "함수의 인수와 return은 필요 없으면 생략할 수 있다."
   ]
  },
  {
   "cell_type": "markdown",
   "metadata": {},
   "source": [
    "함수의 실행 순서  \n",
    "프로그램에서 함수가 호출되면 호출된 함수로 제어가 넘어간다. => 복귀 주소는 스택에 저장된다.  \n",
    "호출된 함수에서 정의한 기능을 모두 실행한 후 함수가 종료되거나 return을 만나면 함수가 호출된 곳으로 스택에 저장된 복귀 주소를 참조해서 돌아간다.  \n",
    "return이 있으면 return 뒤의 값을 가지고 함수를 호출한 곳으로 돌아가고 return이 없으면 None을 가지고 돌아간다."
   ]
  },
  {
   "cell_type": "code",
   "execution_count": 11,
   "metadata": {},
   "outputs": [],
   "source": [
    "# 가장 일반적인 함수의 모양\n",
    "# a, b 2개의 데이터를 인수로 넘겨받아 덧셈을 실행한 후 결과를 return하는 함수\n",
    "def add(a, b): # 호출 당하는 함수의 인수를 가인수라 부른다.\n",
    "    print('add() 함수가 실행됩니다.')\n",
    "    result = a + b\n",
    "    a = 999\n",
    "    print('가인수 a : {}'.format(a))\n",
    "    return result"
   ]
  },
  {
   "cell_type": "markdown",
   "metadata": {},
   "source": [
    "실인수와 가인수는 독립된 메모리 공간을 사용하기 때문에 가인수 값이 변경되더라도 실인수의 값은 변경되지 않는다.  \n",
    "실인수와 가인수의 이름은 반드시 같아야 할 필요는 없지만 개수는 반드시 같아야 한다."
   ]
  },
  {
   "cell_type": "code",
   "execution_count": 12,
   "metadata": {},
   "outputs": [
    {
     "name": "stdout",
     "output_type": "stream",
     "text": [
      "정수 2개를 입력하세요 : 5 1\n",
      "add() 함수가 실행됩니다.\n",
      "가인수 a : 999\n",
      "6\n",
      "실인수 a : 5\n"
     ]
    }
   ],
   "source": [
    "a, b = map(int, input('정수 2개를 입력하세요 : ').split())\n",
    "# 함수를 호출할 때는 호출할 함수의 이름을 적으면 된다. => () 안에 적어주는 인수의 개수가 반드시 일치해야 한다.\n",
    "print(add(a, b)) # 함수를 호출하는 부분의 인수를 실인수라 부른다.\n",
    "print('실인수 a : {}'.format(a))"
   ]
  },
  {
   "cell_type": "code",
   "execution_count": null,
   "metadata": {},
   "outputs": [],
   "source": []
  },
  {
   "cell_type": "code",
   "execution_count": null,
   "metadata": {},
   "outputs": [],
   "source": []
  },
  {
   "cell_type": "code",
   "execution_count": null,
   "metadata": {},
   "outputs": [],
   "source": []
  },
  {
   "cell_type": "code",
   "execution_count": null,
   "metadata": {},
   "outputs": [],
   "source": []
  },
  {
   "cell_type": "code",
   "execution_count": null,
   "metadata": {},
   "outputs": [],
   "source": []
  },
  {
   "cell_type": "code",
   "execution_count": null,
   "metadata": {},
   "outputs": [],
   "source": []
  }
 ],
 "metadata": {
  "kernelspec": {
   "display_name": "Python 3",
   "language": "python",
   "name": "python3"
  },
  "language_info": {
   "codemirror_mode": {
    "name": "ipython",
    "version": 3
   },
   "file_extension": ".py",
   "mimetype": "text/x-python",
   "name": "python",
   "nbconvert_exporter": "python",
   "pygments_lexer": "ipython3",
   "version": "3.6.8"
  }
 },
 "nbformat": 4,
 "nbformat_minor": 4
}

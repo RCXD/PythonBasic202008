{
 "cells": [
  {
   "cell_type": "markdown",
   "metadata": {},
   "source": [
    "while은 조건이 참인 동안 반복하고 조건이 거짓이 되는 순간 반복이 종료된다.  \n",
    "while로 진입하는 최초 조건이 거짓일 경우 한 번도 반복을 실행하지 않는다.  \n",
    "반복을 하기는 해야겠는데 몇 번이나 반복하야 하나 반복 횟수를 정확히 모를 때 사용한다."
   ]
  },
  {
   "cell_type": "markdown",
   "metadata": {},
   "source": [
    "while 조건식:  \n",
    "&nbsp;&nbsp;&nbsp;&nbsp;조건식이 참일 경우 실행할 문장  \n",
    "&nbsp;&nbsp;&nbsp;&nbsp;..."
   ]
  },
  {
   "cell_type": "code",
   "execution_count": 6,
   "metadata": {},
   "outputs": [
    {
     "name": "stdout",
     "output_type": "stream",
     "text": [
      "55\n",
      "0\n"
     ]
    }
   ],
   "source": [
    "# 1 부터 10 까지의 합계\n",
    "total = 0\n",
    "for i in range(1, 11):\n",
    "    total += i\n",
    "print(total)\n",
    "\n",
    "i = 0\n",
    "total = 0\n",
    "while i > 10:\n",
    "    i += 1\n",
    "    total += i\n",
    "print(total)"
   ]
  },
  {
   "cell_type": "code",
   "execution_count": 20,
   "metadata": {},
   "outputs": [
    {
     "name": "stdout",
     "output_type": "stream",
     "text": [
      "========================================\n",
      " 1.입력  2.보기  3.수정  4.삭제  5.종료 \n",
      "========================================\n",
      "원하는 메뉴를 입력하세요 : 3\n"
     ]
    }
   ],
   "source": [
    "# while 명령의 조건식이 항상 참이라면 무한 루프가 된다.\n",
    "# 의도적으로 무한 루프를 발생시켰다면 반드시 무한 루프를 탈출하는 처리를 해야한다. => 반복 탈출시 break 명령을 사용한다.\n",
    "\n",
    "while True:\n",
    "    print('=' * 40)\n",
    "    print(' 1.입력  2.보기  3.수정  4.삭제  5.종료 ')\n",
    "    print('=' * 40)\n",
    "    menu = int(input('원하는 메뉴를 입력하세요 : '))\n",
    "    \n",
    "    # 메뉴에 1 부터 5 사이의 값이 입력되었다면 무한 루프를 탈출시킨다.\n",
    "    # if menu >=1 and menu <= 5:\n",
    "    # if 1 <= menu <= 5:\n",
    "    # if menu in [1, 2, 3, 4, 5]:\n",
    "    # if menu in [i for i in range(1, 6)]:\n",
    "    # if menu in list(range(1, 6)):\n",
    "    if menu in range(1, 6):\n",
    "        break # 반복문의 실행을 중지시킨다. 반복을 탈출한다.\n",
    "    else:\n",
    "        print('메뉴는 1 부터 5 사이의 값만 입력 가능합니다.')"
   ]
  },
  {
   "cell_type": "code",
   "execution_count": 18,
   "metadata": {},
   "outputs": [
    {
     "name": "stdout",
     "output_type": "stream",
     "text": [
      "[1, 2, 3, 4, 5]\n"
     ]
    }
   ],
   "source": [
    "print(list(range(1, 6)))"
   ]
  },
  {
   "cell_type": "code",
   "execution_count": null,
   "metadata": {},
   "outputs": [],
   "source": []
  },
  {
   "cell_type": "code",
   "execution_count": null,
   "metadata": {},
   "outputs": [],
   "source": []
  },
  {
   "cell_type": "code",
   "execution_count": null,
   "metadata": {},
   "outputs": [],
   "source": []
  },
  {
   "cell_type": "code",
   "execution_count": null,
   "metadata": {},
   "outputs": [],
   "source": []
  },
  {
   "cell_type": "code",
   "execution_count": null,
   "metadata": {},
   "outputs": [],
   "source": []
  }
 ],
 "metadata": {
  "kernelspec": {
   "display_name": "Python 3",
   "language": "python",
   "name": "python3"
  },
  "language_info": {
   "codemirror_mode": {
    "name": "ipython",
    "version": 3
   },
   "file_extension": ".py",
   "mimetype": "text/x-python",
   "name": "python",
   "nbconvert_exporter": "python",
   "pygments_lexer": "ipython3",
   "version": "3.6.8"
  }
 },
 "nbformat": 4,
 "nbformat_minor": 4
}

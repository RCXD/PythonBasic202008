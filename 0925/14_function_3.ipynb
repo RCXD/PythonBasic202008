{
 "cells": [
  {
   "cell_type": "code",
   "execution_count": 1,
   "metadata": {},
   "outputs": [],
   "source": [
    "# 인수를 지정해서 함수를 호출할 수 있다.\n",
    "def func3(a, b, c):\n",
    "    print('{} + {} + {} = {}'.format(a, b, c, a + b + c))"
   ]
  },
  {
   "cell_type": "code",
   "execution_count": 7,
   "metadata": {},
   "outputs": [
    {
     "name": "stdout",
     "output_type": "stream",
     "text": [
      "100 + 200 + 300 = 600\n",
      "100 + 200 + 300 = 600\n",
      "300 + 200 + 100 = 600\n"
     ]
    }
   ],
   "source": [
    "# 데이터가 전달될 인수를 지정하지 않으면 처음부터 차례대로 데이터가 함수로 전달된다.\n",
    "func3(100, 200, 300)\n",
    "# 함수를 호출할 때 데이터가 전달될 인수를 지정할 수 있다.\n",
    "func3(a = 100, b = 200, c = 300)\n",
    "# 인수를 지정해서 호출할 때 가인수 목록에 존재하는 인수를 지정해야 하고 가인수 목록에 없으면 에러가 발생된다.\n",
    "# func3(a = 100, b = 200, d = 300) # d가 가인수 목록에 없기 때문에 에러가 발생된다.\n",
    "# 인수를 지정해서 호출할 때 인수를 부분적으로 지정하면 에러가 발생된다.\n",
    "# func3(a = 100, b = 200, 300) # 100, 200은 인수를 지정했지만 300은 인수를 지정하지 않았으므로 에러가 발생된다.\n",
    "# 인수를 지정해서 함수를 호출하면 가인수의 순서와 실인수의 순서가 달라도 사용할 수 있다.\n",
    "func3(c = 100, b = 200, a = 300)"
   ]
  }
 ],
 "metadata": {
  "kernelspec": {
   "display_name": "Python 3",
   "language": "python",
   "name": "python3"
  },
  "language_info": {
   "codemirror_mode": {
    "name": "ipython",
    "version": 3
   },
   "file_extension": ".py",
   "mimetype": "text/x-python",
   "name": "python",
   "nbconvert_exporter": "python",
   "pygments_lexer": "ipython3",
   "version": "3.6.8"
  }
 },
 "nbformat": 4,
 "nbformat_minor": 4
}
